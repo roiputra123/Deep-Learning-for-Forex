{
  "cells": [
    {
      "cell_type": "code",
      "source": [
        "%tensorflow_version 2.x\n",
        "import tensorflow as tf\n",
        "print(\"Tensorflow version \" + tf.__version__)\n",
        "\n",
        "try:\n",
        "  tpu = tf.distribute.cluster_resolver.TPUClusterResolver()  # TPU detection\n",
        "  tf.config.experimental_connect_to_cluster(tpu)\n",
        "  tf.tpu.experimental.initialize_tpu_system(tpu)\n",
        "  tpu_strategy = tf.distribute.experimental.TPUStrategy(tpu)\n",
        "  print('Running on TPU ', tpu.cluster_spec().as_dict()['worker'])\n",
        "except ValueError:\n",
        "  raise BaseException('ERROR: Not connected to a TPU runtime; please see the previous cell in this notebook for instructions!')\n",
        "\n",
        "from google.colab import drive\n",
        "drive.mount('/content/drive')"
      ],
      "metadata": {
        "id": "dzVSl3Vy5wyY",
        "outputId": "6537dbc5-48a0-4ab0-a1b5-434b28618d3c",
        "colab": {
          "base_uri": "https://localhost:8080/"
        }
      },
      "execution_count": 1,
      "outputs": [
        {
          "output_type": "stream",
          "name": "stdout",
          "text": [
            "Tensorflow version 2.8.0\n",
            "INFO:tensorflow:Deallocate tpu buffers before initializing tpu system.\n"
          ]
        },
        {
          "output_type": "stream",
          "name": "stderr",
          "text": [
            "INFO:tensorflow:Deallocate tpu buffers before initializing tpu system.\n"
          ]
        },
        {
          "output_type": "stream",
          "name": "stdout",
          "text": [
            "INFO:tensorflow:Initializing the TPU system: grpc://10.27.140.98:8470\n"
          ]
        },
        {
          "output_type": "stream",
          "name": "stderr",
          "text": [
            "INFO:tensorflow:Initializing the TPU system: grpc://10.27.140.98:8470\n"
          ]
        },
        {
          "output_type": "stream",
          "name": "stdout",
          "text": [
            "INFO:tensorflow:Finished initializing TPU system.\n"
          ]
        },
        {
          "output_type": "stream",
          "name": "stderr",
          "text": [
            "INFO:tensorflow:Finished initializing TPU system.\n",
            "WARNING:absl:`tf.distribute.experimental.TPUStrategy` is deprecated, please use  the non experimental symbol `tf.distribute.TPUStrategy` instead.\n"
          ]
        },
        {
          "output_type": "stream",
          "name": "stdout",
          "text": [
            "INFO:tensorflow:Found TPU system:\n"
          ]
        },
        {
          "output_type": "stream",
          "name": "stderr",
          "text": [
            "INFO:tensorflow:Found TPU system:\n"
          ]
        },
        {
          "output_type": "stream",
          "name": "stdout",
          "text": [
            "INFO:tensorflow:*** Num TPU Cores: 8\n"
          ]
        },
        {
          "output_type": "stream",
          "name": "stderr",
          "text": [
            "INFO:tensorflow:*** Num TPU Cores: 8\n"
          ]
        },
        {
          "output_type": "stream",
          "name": "stdout",
          "text": [
            "INFO:tensorflow:*** Num TPU Workers: 1\n"
          ]
        },
        {
          "output_type": "stream",
          "name": "stderr",
          "text": [
            "INFO:tensorflow:*** Num TPU Workers: 1\n"
          ]
        },
        {
          "output_type": "stream",
          "name": "stdout",
          "text": [
            "INFO:tensorflow:*** Num TPU Cores Per Worker: 8\n"
          ]
        },
        {
          "output_type": "stream",
          "name": "stderr",
          "text": [
            "INFO:tensorflow:*** Num TPU Cores Per Worker: 8\n"
          ]
        },
        {
          "output_type": "stream",
          "name": "stdout",
          "text": [
            "INFO:tensorflow:*** Available Device: _DeviceAttributes(/job:localhost/replica:0/task:0/device:CPU:0, CPU, 0, 0)\n"
          ]
        },
        {
          "output_type": "stream",
          "name": "stderr",
          "text": [
            "INFO:tensorflow:*** Available Device: _DeviceAttributes(/job:localhost/replica:0/task:0/device:CPU:0, CPU, 0, 0)\n"
          ]
        },
        {
          "output_type": "stream",
          "name": "stdout",
          "text": [
            "INFO:tensorflow:*** Available Device: _DeviceAttributes(/job:worker/replica:0/task:0/device:CPU:0, CPU, 0, 0)\n"
          ]
        },
        {
          "output_type": "stream",
          "name": "stderr",
          "text": [
            "INFO:tensorflow:*** Available Device: _DeviceAttributes(/job:worker/replica:0/task:0/device:CPU:0, CPU, 0, 0)\n"
          ]
        },
        {
          "output_type": "stream",
          "name": "stdout",
          "text": [
            "INFO:tensorflow:*** Available Device: _DeviceAttributes(/job:worker/replica:0/task:0/device:TPU:0, TPU, 0, 0)\n"
          ]
        },
        {
          "output_type": "stream",
          "name": "stderr",
          "text": [
            "INFO:tensorflow:*** Available Device: _DeviceAttributes(/job:worker/replica:0/task:0/device:TPU:0, TPU, 0, 0)\n"
          ]
        },
        {
          "output_type": "stream",
          "name": "stdout",
          "text": [
            "INFO:tensorflow:*** Available Device: _DeviceAttributes(/job:worker/replica:0/task:0/device:TPU:1, TPU, 0, 0)\n"
          ]
        },
        {
          "output_type": "stream",
          "name": "stderr",
          "text": [
            "INFO:tensorflow:*** Available Device: _DeviceAttributes(/job:worker/replica:0/task:0/device:TPU:1, TPU, 0, 0)\n"
          ]
        },
        {
          "output_type": "stream",
          "name": "stdout",
          "text": [
            "INFO:tensorflow:*** Available Device: _DeviceAttributes(/job:worker/replica:0/task:0/device:TPU:2, TPU, 0, 0)\n"
          ]
        },
        {
          "output_type": "stream",
          "name": "stderr",
          "text": [
            "INFO:tensorflow:*** Available Device: _DeviceAttributes(/job:worker/replica:0/task:0/device:TPU:2, TPU, 0, 0)\n"
          ]
        },
        {
          "output_type": "stream",
          "name": "stdout",
          "text": [
            "INFO:tensorflow:*** Available Device: _DeviceAttributes(/job:worker/replica:0/task:0/device:TPU:3, TPU, 0, 0)\n"
          ]
        },
        {
          "output_type": "stream",
          "name": "stderr",
          "text": [
            "INFO:tensorflow:*** Available Device: _DeviceAttributes(/job:worker/replica:0/task:0/device:TPU:3, TPU, 0, 0)\n"
          ]
        },
        {
          "output_type": "stream",
          "name": "stdout",
          "text": [
            "INFO:tensorflow:*** Available Device: _DeviceAttributes(/job:worker/replica:0/task:0/device:TPU:4, TPU, 0, 0)\n"
          ]
        },
        {
          "output_type": "stream",
          "name": "stderr",
          "text": [
            "INFO:tensorflow:*** Available Device: _DeviceAttributes(/job:worker/replica:0/task:0/device:TPU:4, TPU, 0, 0)\n"
          ]
        },
        {
          "output_type": "stream",
          "name": "stdout",
          "text": [
            "INFO:tensorflow:*** Available Device: _DeviceAttributes(/job:worker/replica:0/task:0/device:TPU:5, TPU, 0, 0)\n"
          ]
        },
        {
          "output_type": "stream",
          "name": "stderr",
          "text": [
            "INFO:tensorflow:*** Available Device: _DeviceAttributes(/job:worker/replica:0/task:0/device:TPU:5, TPU, 0, 0)\n"
          ]
        },
        {
          "output_type": "stream",
          "name": "stdout",
          "text": [
            "INFO:tensorflow:*** Available Device: _DeviceAttributes(/job:worker/replica:0/task:0/device:TPU:6, TPU, 0, 0)\n"
          ]
        },
        {
          "output_type": "stream",
          "name": "stderr",
          "text": [
            "INFO:tensorflow:*** Available Device: _DeviceAttributes(/job:worker/replica:0/task:0/device:TPU:6, TPU, 0, 0)\n"
          ]
        },
        {
          "output_type": "stream",
          "name": "stdout",
          "text": [
            "INFO:tensorflow:*** Available Device: _DeviceAttributes(/job:worker/replica:0/task:0/device:TPU:7, TPU, 0, 0)\n"
          ]
        },
        {
          "output_type": "stream",
          "name": "stderr",
          "text": [
            "INFO:tensorflow:*** Available Device: _DeviceAttributes(/job:worker/replica:0/task:0/device:TPU:7, TPU, 0, 0)\n"
          ]
        },
        {
          "output_type": "stream",
          "name": "stdout",
          "text": [
            "INFO:tensorflow:*** Available Device: _DeviceAttributes(/job:worker/replica:0/task:0/device:TPU_SYSTEM:0, TPU_SYSTEM, 0, 0)\n"
          ]
        },
        {
          "output_type": "stream",
          "name": "stderr",
          "text": [
            "INFO:tensorflow:*** Available Device: _DeviceAttributes(/job:worker/replica:0/task:0/device:TPU_SYSTEM:0, TPU_SYSTEM, 0, 0)\n"
          ]
        },
        {
          "output_type": "stream",
          "name": "stdout",
          "text": [
            "INFO:tensorflow:*** Available Device: _DeviceAttributes(/job:worker/replica:0/task:0/device:XLA_CPU:0, XLA_CPU, 0, 0)\n"
          ]
        },
        {
          "output_type": "stream",
          "name": "stderr",
          "text": [
            "INFO:tensorflow:*** Available Device: _DeviceAttributes(/job:worker/replica:0/task:0/device:XLA_CPU:0, XLA_CPU, 0, 0)\n"
          ]
        },
        {
          "output_type": "stream",
          "name": "stdout",
          "text": [
            "Running on TPU  ['10.27.140.98:8470']\n"
          ]
        }
      ]
    },
    {
      "cell_type": "code",
      "execution_count": 20,
      "metadata": {
        "id": "evMRruyN5j9t",
        "outputId": "0ff676dd-7f22-415f-8b52-7032dc2a45f0",
        "colab": {
          "base_uri": "https://localhost:8080/",
          "height": 423
        }
      },
      "outputs": [
        {
          "output_type": "execute_result",
          "data": {
            "text/html": [
              "\n",
              "  <div id=\"df-36949edd-8af5-4acb-a056-6f1088356819\">\n",
              "    <div class=\"colab-df-container\">\n",
              "      <div>\n",
              "<style scoped>\n",
              "    .dataframe tbody tr th:only-of-type {\n",
              "        vertical-align: middle;\n",
              "    }\n",
              "\n",
              "    .dataframe tbody tr th {\n",
              "        vertical-align: top;\n",
              "    }\n",
              "\n",
              "    .dataframe thead th {\n",
              "        text-align: right;\n",
              "    }\n",
              "</style>\n",
              "<table border=\"1\" class=\"dataframe\">\n",
              "  <thead>\n",
              "    <tr style=\"text-align: right;\">\n",
              "      <th></th>\n",
              "      <th>Unnamed: 0</th>\n",
              "      <th>Open</th>\n",
              "      <th>High</th>\n",
              "      <th>Low</th>\n",
              "      <th>Close</th>\n",
              "      <th>sin</th>\n",
              "      <th>cos</th>\n",
              "    </tr>\n",
              "  </thead>\n",
              "  <tbody>\n",
              "    <tr>\n",
              "      <th>0</th>\n",
              "      <td>0</td>\n",
              "      <td>1.40760</td>\n",
              "      <td>1.40760</td>\n",
              "      <td>1.40760</td>\n",
              "      <td>1.40760</td>\n",
              "      <td>0.90759</td>\n",
              "      <td>4.82194</td>\n",
              "    </tr>\n",
              "    <tr>\n",
              "      <th>1</th>\n",
              "      <td>1</td>\n",
              "      <td>1.40740</td>\n",
              "      <td>1.40750</td>\n",
              "      <td>1.40740</td>\n",
              "      <td>1.40750</td>\n",
              "      <td>1.00531</td>\n",
              "      <td>4.78443</td>\n",
              "    </tr>\n",
              "    <tr>\n",
              "      <th>2</th>\n",
              "      <td>2</td>\n",
              "      <td>1.40760</td>\n",
              "      <td>1.40810</td>\n",
              "      <td>1.40760</td>\n",
              "      <td>1.40800</td>\n",
              "      <td>1.09857</td>\n",
              "      <td>4.73691</td>\n",
              "    </tr>\n",
              "    <tr>\n",
              "      <th>3</th>\n",
              "      <td>3</td>\n",
              "      <td>1.40810</td>\n",
              "      <td>1.40850</td>\n",
              "      <td>1.40790</td>\n",
              "      <td>1.40820</td>\n",
              "      <td>1.18636</td>\n",
              "      <td>4.67990</td>\n",
              "    </tr>\n",
              "    <tr>\n",
              "      <th>4</th>\n",
              "      <td>4</td>\n",
              "      <td>1.40830</td>\n",
              "      <td>1.40970</td>\n",
              "      <td>1.40830</td>\n",
              "      <td>1.40920</td>\n",
              "      <td>1.26770</td>\n",
              "      <td>4.61402</td>\n",
              "    </tr>\n",
              "    <tr>\n",
              "      <th>...</th>\n",
              "      <td>...</td>\n",
              "      <td>...</td>\n",
              "      <td>...</td>\n",
              "      <td>...</td>\n",
              "      <td>...</td>\n",
              "      <td>...</td>\n",
              "      <td>...</td>\n",
              "    </tr>\n",
              "    <tr>\n",
              "      <th>4871851</th>\n",
              "      <td>4871851</td>\n",
              "      <td>1.12726</td>\n",
              "      <td>1.12728</td>\n",
              "      <td>1.12714</td>\n",
              "      <td>1.12718</td>\n",
              "      <td>0.97922</td>\n",
              "      <td>3.44564</td>\n",
              "    </tr>\n",
              "    <tr>\n",
              "      <th>4871852</th>\n",
              "      <td>4871852</td>\n",
              "      <td>1.12716</td>\n",
              "      <td>1.12720</td>\n",
              "      <td>1.12712</td>\n",
              "      <td>1.12712</td>\n",
              "      <td>1.03623</td>\n",
              "      <td>3.53343</td>\n",
              "    </tr>\n",
              "    <tr>\n",
              "      <th>4871853</th>\n",
              "      <td>4871853</td>\n",
              "      <td>1.12716</td>\n",
              "      <td>1.12718</td>\n",
              "      <td>1.12713</td>\n",
              "      <td>1.12715</td>\n",
              "      <td>1.10211</td>\n",
              "      <td>3.61477</td>\n",
              "    </tr>\n",
              "    <tr>\n",
              "      <th>4871854</th>\n",
              "      <td>4871854</td>\n",
              "      <td>1.12715</td>\n",
              "      <td>1.12728</td>\n",
              "      <td>1.12711</td>\n",
              "      <td>1.12725</td>\n",
              "      <td>1.17612</td>\n",
              "      <td>3.68878</td>\n",
              "    </tr>\n",
              "    <tr>\n",
              "      <th>4871855</th>\n",
              "      <td>4871855</td>\n",
              "      <td>1.12726</td>\n",
              "      <td>1.12726</td>\n",
              "      <td>1.12714</td>\n",
              "      <td>1.12716</td>\n",
              "      <td>1.25746</td>\n",
              "      <td>3.75466</td>\n",
              "    </tr>\n",
              "  </tbody>\n",
              "</table>\n",
              "<p>4871856 rows × 7 columns</p>\n",
              "</div>\n",
              "      <button class=\"colab-df-convert\" onclick=\"convertToInteractive('df-36949edd-8af5-4acb-a056-6f1088356819')\"\n",
              "              title=\"Convert this dataframe to an interactive table.\"\n",
              "              style=\"display:none;\">\n",
              "        \n",
              "  <svg xmlns=\"http://www.w3.org/2000/svg\" height=\"24px\"viewBox=\"0 0 24 24\"\n",
              "       width=\"24px\">\n",
              "    <path d=\"M0 0h24v24H0V0z\" fill=\"none\"/>\n",
              "    <path d=\"M18.56 5.44l.94 2.06.94-2.06 2.06-.94-2.06-.94-.94-2.06-.94 2.06-2.06.94zm-11 1L8.5 8.5l.94-2.06 2.06-.94-2.06-.94L8.5 2.5l-.94 2.06-2.06.94zm10 10l.94 2.06.94-2.06 2.06-.94-2.06-.94-.94-2.06-.94 2.06-2.06.94z\"/><path d=\"M17.41 7.96l-1.37-1.37c-.4-.4-.92-.59-1.43-.59-.52 0-1.04.2-1.43.59L10.3 9.45l-7.72 7.72c-.78.78-.78 2.05 0 2.83L4 21.41c.39.39.9.59 1.41.59.51 0 1.02-.2 1.41-.59l7.78-7.78 2.81-2.81c.8-.78.8-2.07 0-2.86zM5.41 20L4 18.59l7.72-7.72 1.47 1.35L5.41 20z\"/>\n",
              "  </svg>\n",
              "      </button>\n",
              "      \n",
              "  <style>\n",
              "    .colab-df-container {\n",
              "      display:flex;\n",
              "      flex-wrap:wrap;\n",
              "      gap: 12px;\n",
              "    }\n",
              "\n",
              "    .colab-df-convert {\n",
              "      background-color: #E8F0FE;\n",
              "      border: none;\n",
              "      border-radius: 50%;\n",
              "      cursor: pointer;\n",
              "      display: none;\n",
              "      fill: #1967D2;\n",
              "      height: 32px;\n",
              "      padding: 0 0 0 0;\n",
              "      width: 32px;\n",
              "    }\n",
              "\n",
              "    .colab-df-convert:hover {\n",
              "      background-color: #E2EBFA;\n",
              "      box-shadow: 0px 1px 2px rgba(60, 64, 67, 0.3), 0px 1px 3px 1px rgba(60, 64, 67, 0.15);\n",
              "      fill: #174EA6;\n",
              "    }\n",
              "\n",
              "    [theme=dark] .colab-df-convert {\n",
              "      background-color: #3B4455;\n",
              "      fill: #D2E3FC;\n",
              "    }\n",
              "\n",
              "    [theme=dark] .colab-df-convert:hover {\n",
              "      background-color: #434B5C;\n",
              "      box-shadow: 0px 1px 3px 1px rgba(0, 0, 0, 0.15);\n",
              "      filter: drop-shadow(0px 1px 2px rgba(0, 0, 0, 0.3));\n",
              "      fill: #FFFFFF;\n",
              "    }\n",
              "  </style>\n",
              "\n",
              "      <script>\n",
              "        const buttonEl =\n",
              "          document.querySelector('#df-36949edd-8af5-4acb-a056-6f1088356819 button.colab-df-convert');\n",
              "        buttonEl.style.display =\n",
              "          google.colab.kernel.accessAllowed ? 'block' : 'none';\n",
              "\n",
              "        async function convertToInteractive(key) {\n",
              "          const element = document.querySelector('#df-36949edd-8af5-4acb-a056-6f1088356819');\n",
              "          const dataTable =\n",
              "            await google.colab.kernel.invokeFunction('convertToInteractive',\n",
              "                                                     [key], {});\n",
              "          if (!dataTable) return;\n",
              "\n",
              "          const docLinkHtml = 'Like what you see? Visit the ' +\n",
              "            '<a target=\"_blank\" href=https://colab.research.google.com/notebooks/data_table.ipynb>data table notebook</a>'\n",
              "            + ' to learn more about interactive tables.';\n",
              "          element.innerHTML = '';\n",
              "          dataTable['output_type'] = 'display_data';\n",
              "          await google.colab.output.renderOutput(dataTable, element);\n",
              "          const docLink = document.createElement('div');\n",
              "          docLink.innerHTML = docLinkHtml;\n",
              "          element.appendChild(docLink);\n",
              "        }\n",
              "      </script>\n",
              "    </div>\n",
              "  </div>\n",
              "  "
            ],
            "text/plain": [
              "         Unnamed: 0     Open     High      Low    Close      sin      cos\n",
              "0                 0  1.40760  1.40760  1.40760  1.40760  0.90759  4.82194\n",
              "1                 1  1.40740  1.40750  1.40740  1.40750  1.00531  4.78443\n",
              "2                 2  1.40760  1.40810  1.40760  1.40800  1.09857  4.73691\n",
              "3                 3  1.40810  1.40850  1.40790  1.40820  1.18636  4.67990\n",
              "4                 4  1.40830  1.40970  1.40830  1.40920  1.26770  4.61402\n",
              "...             ...      ...      ...      ...      ...      ...      ...\n",
              "4871851     4871851  1.12726  1.12728  1.12714  1.12718  0.97922  3.44564\n",
              "4871852     4871852  1.12716  1.12720  1.12712  1.12712  1.03623  3.53343\n",
              "4871853     4871853  1.12716  1.12718  1.12713  1.12715  1.10211  3.61477\n",
              "4871854     4871854  1.12715  1.12728  1.12711  1.12725  1.17612  3.68878\n",
              "4871855     4871855  1.12726  1.12726  1.12714  1.12716  1.25746  3.75466\n",
              "\n",
              "[4871856 rows x 7 columns]"
            ]
          },
          "metadata": {},
          "execution_count": 20
        }
      ],
      "source": [
        "# multivariate multi-step stacked lstm example\n",
        "from numpy import array\n",
        "from numpy import hstack\n",
        "from keras.models import Sequential\n",
        "from keras.layers import LSTM\n",
        "from keras.layers import Dense\n",
        "import matplotlib.pyplot as plt\n",
        "from pandas import read_csv\n",
        "import math\n",
        "from keras.models import Sequential\n",
        "from keras.layers import Dense\n",
        "from keras.layers import LSTM\n",
        "from sklearn.preprocessing import MinMaxScaler\n",
        "from sklearn.metrics import mean_squared_error\n",
        "from sklearn.model_selection import train_test_split\n",
        "import pandas as pd\n",
        "import numpy as np\n",
        "from keras.layers.core import Dense, Activation, Dropout\n",
        "from datetime import datetime\n",
        "import time\n",
        "from keras.activations import *\n",
        "import tensorflow as tf\n",
        "import os\n",
        "os.environ[\"CUDA_DEVICE_ORDER\"] = \"PCI_BUS_ID\"\n",
        "os.environ['CUDA_VISIBLE_DEVICES'] = '0'\n",
        "#sess = tf.Session(config=tf.ConfigProto(log_device_placement=True))\n",
        "scaler  = MinMaxScaler()\n",
        "df_train =0\n",
        "df_test  =0\n",
        "carpan =1\n",
        "name   =\"M1_hazirVeri_toplu_2008-2022_dongulu\"\n",
        "dbname =\"M1_2008-2022_df_dongulu\" #\"M1_dataframes_4March_dongulu\"\n",
        "\n",
        "\"\"\"def TimeStamps(dataframe_Date):\n",
        "    dTime = dataframe_Date\n",
        "    if name == ('Weekly'or 'Daily' or 'Monthly'):\n",
        "        return pd.DataFrame(array([datetime.strptime((dTime[i]),'%Y %m %d').timestamp() for i in range(len(dTime))]))#%H:%M:%S\n",
        "    else :\n",
        "        return pd.DataFrame(array([datetime.strptime((dTime[i]),'%Y %m %d %H %M %S').timestamp() for i in range(len(dTime))]))\n",
        "\"\"\"\n",
        "import dill\n",
        "try:\n",
        "    \"\"\"\n",
        "    df = read_csv('/content/drive/Othercomputers/2022 Masaüstü 2/Dersler 2022/Dersler-2021-2022-Donem-2/Lisans Github/EURUSD_'+name+'.csv', engine='python')\n",
        "    #df_test  = read_csv('/content/drive/Othercomputers/2022 Masaüstü 2/Dersler 2022/Dersler-2021-2022-Donem-2/Lisans Github/EURUSD_'+name+'.csv', engine='python')\n",
        "    #df_train['Date'] = TimeStamps(df_train['Date'])\n",
        "    #df_test['Date']  = TimeStamps(df_test['Date'])\n",
        "    dill.dump_session('/content/drive/Othercomputers/2022 Masaüstü 2/Dersler 2022/Dersler-2021-2022-Donem-2/Lisans Github/'+dbname+'.db')\n",
        "    \"\"\"\n",
        "    dill.load_session('/content/drive/Othercomputers/2022 Masaüstü 2/Dersler 2022/Dersler-2021-2022-Donem-2/Lisans Github/'+dbname+'.db')\n",
        "    \n",
        "except:\n",
        "    \"\"\"\n",
        "    df = read_csv('C:/Users/ertad/Dersler 2022/Dersler-2021-2022-Donem-2/Lisans Github/EURUSD_'+name+'.csv', engine='python')\n",
        "    #df_test  = read_csv('C:/Users/ertad/Dersler 2022/Dersler-2021-2022-Donem-2/Lisans Github/EURUSD_'+name+'.csv' , engine='python')\n",
        "    #df_train['Date'] = TimeStamps(df_train['Date'])\n",
        "    #df_test['Date']  = TimeStamps(df_test['Date'])\n",
        "    dill.dump_session('C:/Users/ertad/Dersler 2022/Dersler-2021-2022-Donem-2/Lisans Github/'+dbname+'.db')\n",
        "    \"\"\"\n",
        "    dill.load_session('C:/Users/ertad/Dersler 2022/Dersler-2021-2022-Donem-2/Lisans Github/'+dbname+'.db')\n",
        "    \n",
        "df"
      ]
    },
    {
      "cell_type": "markdown",
      "metadata": {
        "id": "AD59DfFD5j9y"
      },
      "source": [
        ""
      ]
    },
    {
      "cell_type": "code",
      "execution_count": 21,
      "metadata": {
        "id": "cegQZTrZ5j90"
      },
      "outputs": [],
      "source": [
        "sin = df['sin']\n",
        "cos = df['cos']\n",
        "open = df['Open']\n",
        "high = df['High']\n",
        "low = df['Low']\n",
        "close = df['Close']\n",
        "\n",
        "giris =2\n",
        "cikis=4\n",
        "\n",
        "\n",
        "date =  pd.concat([sin,cos],axis=1)\n",
        "if(giris==3):\n",
        "  date = pd.concat([sin,cos,open],axis=1)\n",
        "sec =  pd.concat([open,high,low,close],axis=1)\n",
        "if(cikis==3):\n",
        "  sec =  pd.concat([high,low,close],axis=1)\n",
        "  \n",
        "from sklearn.model_selection import train_test_split\n",
        "X_train, X_test,y_train,y_test = train_test_split(date,sec,train_size=0.33,shuffle=False)\n"
      ]
    },
    {
      "cell_type": "code",
      "source": [
        "X_test"
      ],
      "metadata": {
        "id": "6LpCrjHG98nf",
        "outputId": "a9cc738b-29f2-4212-a2cc-4e16b61832ad",
        "colab": {
          "base_uri": "https://localhost:8080/",
          "height": 423
        }
      },
      "execution_count": 22,
      "outputs": [
        {
          "output_type": "execute_result",
          "data": {
            "text/html": [
              "\n",
              "  <div id=\"df-492fe2f8-8657-4a79-a0c2-4028eb205ce1\">\n",
              "    <div class=\"colab-df-container\">\n",
              "      <div>\n",
              "<style scoped>\n",
              "    .dataframe tbody tr th:only-of-type {\n",
              "        vertical-align: middle;\n",
              "    }\n",
              "\n",
              "    .dataframe tbody tr th {\n",
              "        vertical-align: top;\n",
              "    }\n",
              "\n",
              "    .dataframe thead th {\n",
              "        text-align: right;\n",
              "    }\n",
              "</style>\n",
              "<table border=\"1\" class=\"dataframe\">\n",
              "  <thead>\n",
              "    <tr style=\"text-align: right;\">\n",
              "      <th></th>\n",
              "      <th>sin</th>\n",
              "      <th>cos</th>\n",
              "    </tr>\n",
              "  </thead>\n",
              "  <tbody>\n",
              "    <tr>\n",
              "      <th>1607712</th>\n",
              "      <td>2.14985</td>\n",
              "      <td>-0.73387</td>\n",
              "    </tr>\n",
              "    <tr>\n",
              "      <th>1607713</th>\n",
              "      <td>2.23764</td>\n",
              "      <td>-0.79088</td>\n",
              "    </tr>\n",
              "    <tr>\n",
              "      <th>1607714</th>\n",
              "      <td>2.31898</td>\n",
              "      <td>-0.85676</td>\n",
              "    </tr>\n",
              "    <tr>\n",
              "      <th>1607715</th>\n",
              "      <td>2.39299</td>\n",
              "      <td>-0.93077</td>\n",
              "    </tr>\n",
              "    <tr>\n",
              "      <th>1607716</th>\n",
              "      <td>2.45887</td>\n",
              "      <td>-1.01211</td>\n",
              "    </tr>\n",
              "    <tr>\n",
              "      <th>...</th>\n",
              "      <td>...</td>\n",
              "      <td>...</td>\n",
              "    </tr>\n",
              "    <tr>\n",
              "      <th>4871851</th>\n",
              "      <td>0.97922</td>\n",
              "      <td>3.44564</td>\n",
              "    </tr>\n",
              "    <tr>\n",
              "      <th>4871852</th>\n",
              "      <td>1.03623</td>\n",
              "      <td>3.53343</td>\n",
              "    </tr>\n",
              "    <tr>\n",
              "      <th>4871853</th>\n",
              "      <td>1.10211</td>\n",
              "      <td>3.61477</td>\n",
              "    </tr>\n",
              "    <tr>\n",
              "      <th>4871854</th>\n",
              "      <td>1.17612</td>\n",
              "      <td>3.68878</td>\n",
              "    </tr>\n",
              "    <tr>\n",
              "      <th>4871855</th>\n",
              "      <td>1.25746</td>\n",
              "      <td>3.75466</td>\n",
              "    </tr>\n",
              "  </tbody>\n",
              "</table>\n",
              "<p>3264144 rows × 2 columns</p>\n",
              "</div>\n",
              "      <button class=\"colab-df-convert\" onclick=\"convertToInteractive('df-492fe2f8-8657-4a79-a0c2-4028eb205ce1')\"\n",
              "              title=\"Convert this dataframe to an interactive table.\"\n",
              "              style=\"display:none;\">\n",
              "        \n",
              "  <svg xmlns=\"http://www.w3.org/2000/svg\" height=\"24px\"viewBox=\"0 0 24 24\"\n",
              "       width=\"24px\">\n",
              "    <path d=\"M0 0h24v24H0V0z\" fill=\"none\"/>\n",
              "    <path d=\"M18.56 5.44l.94 2.06.94-2.06 2.06-.94-2.06-.94-.94-2.06-.94 2.06-2.06.94zm-11 1L8.5 8.5l.94-2.06 2.06-.94-2.06-.94L8.5 2.5l-.94 2.06-2.06.94zm10 10l.94 2.06.94-2.06 2.06-.94-2.06-.94-.94-2.06-.94 2.06-2.06.94z\"/><path d=\"M17.41 7.96l-1.37-1.37c-.4-.4-.92-.59-1.43-.59-.52 0-1.04.2-1.43.59L10.3 9.45l-7.72 7.72c-.78.78-.78 2.05 0 2.83L4 21.41c.39.39.9.59 1.41.59.51 0 1.02-.2 1.41-.59l7.78-7.78 2.81-2.81c.8-.78.8-2.07 0-2.86zM5.41 20L4 18.59l7.72-7.72 1.47 1.35L5.41 20z\"/>\n",
              "  </svg>\n",
              "      </button>\n",
              "      \n",
              "  <style>\n",
              "    .colab-df-container {\n",
              "      display:flex;\n",
              "      flex-wrap:wrap;\n",
              "      gap: 12px;\n",
              "    }\n",
              "\n",
              "    .colab-df-convert {\n",
              "      background-color: #E8F0FE;\n",
              "      border: none;\n",
              "      border-radius: 50%;\n",
              "      cursor: pointer;\n",
              "      display: none;\n",
              "      fill: #1967D2;\n",
              "      height: 32px;\n",
              "      padding: 0 0 0 0;\n",
              "      width: 32px;\n",
              "    }\n",
              "\n",
              "    .colab-df-convert:hover {\n",
              "      background-color: #E2EBFA;\n",
              "      box-shadow: 0px 1px 2px rgba(60, 64, 67, 0.3), 0px 1px 3px 1px rgba(60, 64, 67, 0.15);\n",
              "      fill: #174EA6;\n",
              "    }\n",
              "\n",
              "    [theme=dark] .colab-df-convert {\n",
              "      background-color: #3B4455;\n",
              "      fill: #D2E3FC;\n",
              "    }\n",
              "\n",
              "    [theme=dark] .colab-df-convert:hover {\n",
              "      background-color: #434B5C;\n",
              "      box-shadow: 0px 1px 3px 1px rgba(0, 0, 0, 0.15);\n",
              "      filter: drop-shadow(0px 1px 2px rgba(0, 0, 0, 0.3));\n",
              "      fill: #FFFFFF;\n",
              "    }\n",
              "  </style>\n",
              "\n",
              "      <script>\n",
              "        const buttonEl =\n",
              "          document.querySelector('#df-492fe2f8-8657-4a79-a0c2-4028eb205ce1 button.colab-df-convert');\n",
              "        buttonEl.style.display =\n",
              "          google.colab.kernel.accessAllowed ? 'block' : 'none';\n",
              "\n",
              "        async function convertToInteractive(key) {\n",
              "          const element = document.querySelector('#df-492fe2f8-8657-4a79-a0c2-4028eb205ce1');\n",
              "          const dataTable =\n",
              "            await google.colab.kernel.invokeFunction('convertToInteractive',\n",
              "                                                     [key], {});\n",
              "          if (!dataTable) return;\n",
              "\n",
              "          const docLinkHtml = 'Like what you see? Visit the ' +\n",
              "            '<a target=\"_blank\" href=https://colab.research.google.com/notebooks/data_table.ipynb>data table notebook</a>'\n",
              "            + ' to learn more about interactive tables.';\n",
              "          element.innerHTML = '';\n",
              "          dataTable['output_type'] = 'display_data';\n",
              "          await google.colab.output.renderOutput(dataTable, element);\n",
              "          const docLink = document.createElement('div');\n",
              "          docLink.innerHTML = docLinkHtml;\n",
              "          element.appendChild(docLink);\n",
              "        }\n",
              "      </script>\n",
              "    </div>\n",
              "  </div>\n",
              "  "
            ],
            "text/plain": [
              "             sin      cos\n",
              "1607712  2.14985 -0.73387\n",
              "1607713  2.23764 -0.79088\n",
              "1607714  2.31898 -0.85676\n",
              "1607715  2.39299 -0.93077\n",
              "1607716  2.45887 -1.01211\n",
              "...          ...      ...\n",
              "4871851  0.97922  3.44564\n",
              "4871852  1.03623  3.53343\n",
              "4871853  1.10211  3.61477\n",
              "4871854  1.17612  3.68878\n",
              "4871855  1.25746  3.75466\n",
              "\n",
              "[3264144 rows x 2 columns]"
            ]
          },
          "metadata": {},
          "execution_count": 22
        }
      ]
    },
    {
      "cell_type": "code",
      "execution_count": 25,
      "metadata": {
        "id": "JtP6aOP75j91",
        "outputId": "14e790dc-f334-4ed9-e791-52907b416596",
        "colab": {
          "base_uri": "https://localhost:8080/"
        }
      },
      "outputs": [
        {
          "output_type": "stream",
          "name": "stdout",
          "text": [
            "Set Mode train shape 0 :  1607712\n",
            "Orjinal Shape X_train: (1607712, 1, 2)\n",
            "Yeni Shape X_train : (1607712, 1, 2)\n",
            "Orjinal Shape X_test: (3264144, 1, 2)\n",
            "Yeni Shape X_test : (3264144, 1, 2)\n",
            "Orjinal Shape y_train: (1607712, 1, 4)\n",
            "Yeni Shape y_train : (1607712, 1, 4)\n",
            "Orjinal Shape y_train: (3264144, 1, 4)\n",
            "Yeni Shape y_train : (3264144, 1, 4)\n",
            "Model: \"sequential_5\"\n",
            "_________________________________________________________________\n",
            " Layer (type)                Output Shape              Param #   \n",
            "=================================================================\n",
            " lstm_4 (LSTM)               (None, 2)                 40        \n",
            "                                                                 \n",
            " dropout_8 (Dropout)         (None, 2)                 0         \n",
            "                                                                 \n",
            " dense_12 (Dense)            (None, 128)               384       \n",
            "                                                                 \n",
            " dropout_9 (Dropout)         (None, 128)               0         \n",
            "                                                                 \n",
            " dense_13 (Dense)            (None, 64)                8256      \n",
            "                                                                 \n",
            " dense_14 (Dense)            (None, 4)                 260       \n",
            "                                                                 \n",
            "=================================================================\n",
            "Total params: 8,940\n",
            "Trainable params: 8,940\n",
            "Non-trainable params: 0\n",
            "_________________________________________________________________\n",
            "None\n"
          ]
        }
      ],
      "source": [
        "model = Sequential()\n",
        "units=2\n",
        "dense=cikis\n",
        "\n",
        "print(\"Set Mode train shape 0 : \",X_train.shape[0])\n",
        "model.add(LSTM(units, activation='relu',input_shape=(X_train.shape[1],giris)))\n",
        "print(\"Orjinal Shape X_train:\",X_train.shape)\n",
        "print(\"Yeni Shape X_train :\",X_train.shape)\n",
        "print(\"Orjinal Shape X_test:\",X_test.shape)\n",
        "print(\"Yeni Shape X_test :\",X_test.shape)\n",
        "print(\"Orjinal Shape y_train:\",y_train.shape)\n",
        "print(\"Yeni Shape y_train :\",y_train.shape)\n",
        "print(\"Orjinal Shape y_train:\",y_test.shape)\n",
        "print(\"Yeni Shape y_train :\",y_test.shape)\n",
        "\n",
        "\n",
        "\n",
        "\n",
        "X_train = np.array(X_train).reshape((len(X_train),1,giris))\n",
        "X_test = np.array(X_test).reshape((len(X_test),1,giris))\n",
        "y_train = np.array(y_train).reshape((len(y_train),1,cikis))\n",
        "y_test = np.array(y_test).reshape((len(y_test),1,cikis))\n",
        "#model.add(Dense(256*4))\n",
        "#model.add(Dropout(0.2))\n",
        "#model.add(Dense(256*2))\n",
        "#model.add(Dropout(0.2))\n",
        "#model.add(Dense(256))\n",
        "#model.add(Dropout(0.2))\n",
        "#model.add(Dense(256))\n",
        "model.add(Dropout(0.2))\n",
        "model.add(Dense(128))\n",
        "model.add(Dropout(0.5))\n",
        "model.add(Dense(64))\n",
        "model.add(Dense(cikis))\n",
        "opt = tf.keras.optimizers.SGD(learning_rate=0.0001)\n",
        "model.compile(optimizer=opt, loss='mse', metrics=['accuracy'])\n",
        "print(model.summary())\n"
      ]
    },
    {
      "cell_type": "code",
      "execution_count": null,
      "metadata": {
        "id": "ePy-7yTe5j93",
        "outputId": "39d4cd0b-b5c8-4a5a-b92f-89eea2926b57",
        "colab": {
          "base_uri": "https://localhost:8080/"
        }
      },
      "outputs": [
        {
          "output_type": "stream",
          "name": "stdout",
          "text": [
            "Epoch 1/10\n",
            "393/393 [==============================] - 42s 103ms/step - loss: 1.6619 - accuracy: 0.1684 - val_loss: 1.1109 - val_accuracy: 0.0766\n",
            "Epoch 2/10\n",
            "393/393 [==============================] - 40s 101ms/step - loss: 1.3605 - accuracy: 0.1294 - val_loss: 0.8754 - val_accuracy: 0.0148\n",
            "Epoch 3/10\n",
            "393/393 [==============================] - 39s 99ms/step - loss: 1.1065 - accuracy: 0.1180 - val_loss: 0.6796 - val_accuracy: 0.0043\n",
            "Epoch 4/10\n",
            "393/393 [==============================] - 40s 103ms/step - loss: 0.8911 - accuracy: 0.1167 - val_loss: 0.5169 - val_accuracy: 0.0011\n",
            "Epoch 5/10\n",
            "393/393 [==============================] - 42s 107ms/step - loss: 0.7085 - accuracy: 0.1198 - val_loss: 0.3834 - val_accuracy: 8.6404e-05\n",
            "Epoch 6/10\n",
            "393/393 [==============================] - 39s 100ms/step - loss: 0.5555 - accuracy: 0.1257 - val_loss: 0.2761 - val_accuracy: 0.0000e+00\n",
            "Epoch 7/10\n",
            "155/393 [==========>...................] - ETA: 15s - loss: 0.4637 - accuracy: 0.1308"
          ]
        }
      ],
      "source": [
        "#for i in range(100):\n",
        "history = model.fit(X_train,y_train, epochs=10,batch_size=4096,validation_data=(X_test,y_test))  \n",
        "predict = model.predict(X_test)#.round(5)\n",
        "print(predict,y_test)\n"
      ]
    },
    {
      "cell_type": "markdown",
      "metadata": {
        "id": "RyerMA4V5j94"
      },
      "source": [
        "h1 units 16 1.8535e-06\n",
        "h1 units 32 1.9282e-06"
      ]
    },
    {
      "cell_type": "code",
      "execution_count": null,
      "metadata": {
        "id": "5Qa92-fx5j94"
      },
      "outputs": [],
      "source": [
        "predict = model.predict(X_test)#.round(5)"
      ]
    },
    {
      "cell_type": "code",
      "execution_count": null,
      "metadata": {
        "id": "hBriEZQy5j95"
      },
      "outputs": [],
      "source": [
        "predict,y_test"
      ]
    },
    {
      "cell_type": "code",
      "execution_count": null,
      "metadata": {
        "id": "yg2xkpHc5j95"
      },
      "outputs": [],
      "source": [
        "print(predict)\n",
        "print(((predict-y_test)))#.round(5)\n",
        "predict = scaler.inverse_transform(predict)\n",
        "y_test  = scaler.inverse_transform(y_test)\n",
        "\n",
        "fark2 = predict[:50]-y_test[:50]\n",
        "\n",
        "predict = pd.DataFrame(((predict)),columns=['High_Predict','Low_Predict','Close_Predict'])\n",
        "y_test = pd.DataFrame(((y_test)),columns=['High_Reel','Low_Reel','Close_Reel'])\n",
        "X_test = pd.DataFrame(((X_test)),columns=['Open'])\n",
        "\n",
        "\n",
        "found  = pd.concat([X_test,predict],axis=1)\n",
        "expect = pd.concat([X_test,y_test],axis=1)\n",
        "print((predict[i]/carpan).round(5),(y_test[i]/carpan).round(5))\n",
        "print(fark2,\"\\n \\n\",expect,\"\\n \\n\",found)"
      ]
    },
    {
      "cell_type": "code",
      "execution_count": null,
      "metadata": {
        "id": "chsCyjy65j96"
      },
      "outputs": [],
      "source": [
        "test= X_test.reshape(56086,2)\n",
        "yy   = y_test.reshape(56086,3)\n",
        "pre = np.array(predict).reshape(56086,3)\n",
        "plt.plot(test[0],[yy[0],yy[1],yy[2]],color='blue')\n",
        "plt.plot(test[0],[pre[0],pre[1],pre[2]],color='red')"
      ]
    },
    {
      "cell_type": "code",
      "execution_count": null,
      "metadata": {
        "id": "Gwnj18RW5j97"
      },
      "outputs": [],
      "source": [
        "yeni = np.array([1.09160])\n",
        "\n",
        "model.predict(yeni.reshape(-1,1))#.round(5)"
      ]
    },
    {
      "cell_type": "code",
      "execution_count": null,
      "metadata": {
        "id": "5IxiDjts5j97"
      },
      "outputs": [],
      "source": [
        "#from tensorflow.python.client import device_lib\n",
        "#import tensorflow as tf\n",
        "#tf.debugging.set_log_device_placement(True)\n",
        "#print(device_lib.list_local_devices())"
      ]
    }
  ],
  "metadata": {
    "interpreter": {
      "hash": "9be36568d6e1ad3ef5e45a047b2a90023b0fdaabc133feaf6b9e90deff153f56"
    },
    "kernelspec": {
      "display_name": "Python 3.9.5 ('base')",
      "language": "python",
      "name": "python3"
    },
    "language_info": {
      "codemirror_mode": {
        "name": "ipython",
        "version": 3
      },
      "file_extension": ".py",
      "mimetype": "text/x-python",
      "name": "python",
      "nbconvert_exporter": "python",
      "pygments_lexer": "ipython3",
      "version": "3.9.5"
    },
    "orig_nbformat": 4,
    "colab": {
      "name": "LSTM_Dongulu2.ipynb",
      "provenance": []
    },
    "accelerator": "TPU"
  },
  "nbformat": 4,
  "nbformat_minor": 0
}