{
 "cells": [
  {
   "cell_type": "code",
   "execution_count": 1,
   "metadata": {},
   "outputs": [
    {
     "data": {
      "text/plain": [
       "(         Index          Date     Open     High      Low    Close\n",
       " 0            0  9.468504e+08  1.01290  1.01410  1.01200  1.01370\n",
       " 1            1  9.468540e+08  1.01400  1.01730  1.01340  1.01710\n",
       " 2            2  9.468576e+08  1.01700  1.01900  1.01700  1.01750\n",
       " 3            3  9.468612e+08  1.01730  1.01770  1.01640  1.01670\n",
       " 4            4  9.468648e+08  1.01710  1.01720  1.01640  1.01690\n",
       " ...        ...           ...      ...      ...      ...      ...\n",
       " 136537  136537  1.640884e+09  1.13150  1.13164  1.13038  1.13059\n",
       " 136538  136538  1.640887e+09  1.13059  1.13300  1.13041  1.13274\n",
       " 136539  136539  1.640891e+09  1.13274  1.13303  1.13182  1.13194\n",
       " 136540  136540  1.640894e+09  1.13193  1.13271  1.13192  1.13256\n",
       " 136541  136541  1.640898e+09  1.13244  1.13262  1.13180  1.13224\n",
       " \n",
       " [136542 rows x 6 columns],\n",
       "      Index          Date     Open     High      Low    Close\n",
       " 0        0  1.641161e+09  1.13725  1.13778  1.13687  1.13728\n",
       " 1        1  1.641164e+09  1.13728  1.13759  1.13608  1.13622\n",
       " 2        2  1.641168e+09  1.13622  1.13654  1.13497  1.13588\n",
       " 3        3  1.641172e+09  1.13588  1.13589  1.13422  1.13427\n",
       " 4        4  1.641175e+09  1.13430  1.13500  1.13413  1.13482\n",
       " ..     ...           ...      ...      ...      ...      ...\n",
       " 954    954  1.645805e+09  1.12591  1.12620  1.12351  1.12409\n",
       " 955    955  1.645808e+09  1.12409  1.12603  1.12409  1.12568\n",
       " 956    956  1.645812e+09  1.12568  1.12658  1.12497  1.12633\n",
       " 957    957  1.645816e+09  1.12633  1.12711  1.12580  1.12655\n",
       " 958    958  1.645819e+09  1.12657  1.12735  1.12641  1.12716\n",
       " \n",
       " [959 rows x 6 columns])"
      ]
     },
     "execution_count": 1,
     "metadata": {},
     "output_type": "execute_result"
    }
   ],
   "source": [
    "# multivariate multi-step stacked lstm example\n",
    "from numpy import array\n",
    "from numpy import hstack\n",
    "from keras.models import Sequential\n",
    "from keras.layers import LSTM\n",
    "from keras.layers import Dense\n",
    "import matplotlib.pyplot as plt\n",
    "from pandas import read_csv\n",
    "import math\n",
    "from keras.models import Sequential\n",
    "from keras.layers import Dense\n",
    "from keras.layers import LSTM\n",
    "from sklearn.preprocessing import MinMaxScaler\n",
    "from sklearn.metrics import mean_squared_error\n",
    "from sklearn.model_selection import train_test_split\n",
    "import pandas as pd\n",
    "import numpy as np\n",
    "from keras.layers.core import Dense, Activation, Dropout\n",
    "from datetime import datetime\n",
    "import time\n",
    "from keras.activations import *\n",
    "import tensorflow as tf\n",
    "import os\n",
    "os.environ[\"CUDA_DEVICE_ORDER\"] = \"PCI_BUS_ID\"\n",
    "os.environ['CUDA_VISIBLE_DEVICES'] = '0'\n",
    "#sess = tf.Session(config=tf.ConfigProto(log_device_placement=True))\n",
    "scaler  = MinMaxScaler()\n",
    "\n",
    "df_train =0\n",
    "df_test  =0\n",
    "carpan =1\n",
    "name =\"H1\"\n",
    "\n",
    "def TimeStamps(dataframe_Date):\n",
    "    dTime = dataframe_Date\n",
    "    if name == ('Weekly'or 'Daily' or 'Monthly'):\n",
    "        return pd.DataFrame(array([datetime.strptime((dTime[i]),'%Y %m %d').timestamp() for i in range(len(dTime))]))#%H:%M:%S\n",
    "    else :\n",
    "        return pd.DataFrame(array([datetime.strptime((dTime[i]),'%Y %m %d %H %M %S').timestamp() for i in range(len(dTime))]))\n",
    "\n",
    "import dill\n",
    "try:\n",
    "    \"\"\"\n",
    "    df_train = read_csv('/content/drive/Othercomputers/2022 Masaüstü 2/Dersler 2022/Dersler-2021-2022-Donem-2/Lisans Projesi/EURUSD_'+name+'_hazirVeri_train.csv', engine='python')\n",
    "    df_test  = read_csv('/content/drive/Othercomputers/2022 Masaüstü 2/Dersler 2022/Dersler-2021-2022-Donem-2/Lisans Projesi/EURUSD_'+name+'_hazirVeri_test.csv', engine='python')\n",
    "    df_train['Date'] = TimeStamps(df_train['Date'])\n",
    "    df_test['Date']  = TimeStamps(df_test['Date'])\n",
    "    dill.dump_session('/content/drive/Othercomputers/2022 Masaüstü 2/Dersler 2022/Dersler-2021-2022-Donem-2/Lisans Projesi/'+name+'_dataframes.db')\n",
    "    \"\"\"\n",
    "    dill.load_session('/content/drive/Othercomputers/2022 Masaüstü 2/Dersler 2022/Dersler-2021-2022-Donem-2/Lisans Projesi/'+name+'_dataframes.db')\n",
    "    \n",
    "except:\n",
    "    \"\"\"\n",
    "    df_train = read_csv('EURUSD_'+name+'_hazirVeri_train.csv', engine='python')\n",
    "    df_test  = read_csv('EURUSD_'+name+'_hazirVeri_test.csv' , engine='python')\n",
    "    df_train['Date'] = TimeStamps(df_train['Date'])\n",
    "    df_test['Date']  = TimeStamps(df_test['Date'])\n",
    "    dill.dump_session(name+'_dataframes.db')\n",
    "    \"\"\"\n",
    "    dill.load_session(name+'_dataframes.db')\n",
    "    \n",
    "\n",
    "\n",
    "\n",
    "df_train,df_test"
   ]
  },
  {
   "cell_type": "code",
   "execution_count": null,
   "metadata": {},
   "outputs": [],
   "source": [
    "model = Sequential()\n",
    "giris = 2\n",
    "cikis = 3\n",
    "def SetModel(units,train,dense,activations='relu',optimizer='adam', loss='mse'):\n",
    "    print(\"Set Mode train shape 0 : \",train.shape[0])\n",
    "    model.add(LSTM(units, activation=activations,input_shape=(1,giris),return_sequences=False))\n",
    "    #model.add(Dropout(0.2))\n",
    "    #model.add(Dense(1024, activation=activations))\n",
    "    #model.add(Dense(512, activation=activations))\n",
    "    model.add(Dense(dense))\n",
    "    model.compile(optimizer, loss)\n",
    "    print(model.summary())\n",
    "\n",
    "def setupDataFrame(dataFrame):\n",
    "    #X\n",
    "    X_Data = dataFrame\n",
    "    X_Data = X_Data.drop('Index',axis=1)\n",
    "    X_Data = X_Data.drop('High',axis=1)\n",
    "    X_Data = X_Data.drop('Close',axis=1)\n",
    "    X_Data = X_Data.drop('Low',axis=1)\n",
    "    if(giris==1):\n",
    "        X_Data = X_Data.drop('Open',axis=1)\n",
    "    #X_Data['Date'] = pd.to_datetime(X_Data['Date'], infer_datetime_format=True)\n",
    "    #X_Data.set_index('Date', inplace=True)\n",
    "    #X_Data['Date'] = X_Data['Date'].astype(float)\n",
    "    #X_Data = np.array(X_Data)\n",
    "    print(\"Orjinal Shape X :\",X_Data.shape)\n",
    "    X_Data = np.array(X_Data).reshape((len(X_Data),1,giris))\n",
    "    print(\"Yeni Shape X :\",X_Data.shape)\n",
    "    #X_Data = scaler.fit_transform(X_Data)#.round(5)\n",
    "\n",
    "    #Y\n",
    "    Y_Data = dataFrame\n",
    "    Y_Data = Y_Data.drop('Index',axis=1)\n",
    "    Y_Data = Y_Data.drop('Date',axis=1)\n",
    "    if(cikis==3):\n",
    "        Y_Data = Y_Data.drop('Open',axis=1)#\n",
    "    Y_Data = (Y_Data*carpan).values#.round(5)\n",
    "    print(\"Orjinal Shape Y :\",Y_Data.shape)\n",
    "    Y_Data = np.array(Y_Data).reshape((len(Y_Data),1,cikis))\n",
    "    #Y_Data = scaler.fit_transform(Y_Data)#.round(5)\n",
    "    print(\"Yeni Shape Y :\",Y_Data.shape)\n",
    "    #print(X_t,y_t)\n",
    "    return X_Data,Y_Data\n",
    "\n",
    "def FUNC_Time(train_dataframe,test_dataframe):\n",
    "    #X_train #Y_train\n",
    "    X_train,y_train =setupDataFrame(train_dataframe)\n",
    "    #X_test #y_test\n",
    "    X_test,y_test = setupDataFrame(test_dataframe)\n",
    "    #SetModel\n",
    "    SetModel(units=2,train=X_train,dense=cikis)\n",
    "    #print(X_train.shape,y_train.shape,X_test.shape,y_test.shape)\n",
    "    print(X_train,\"\\n\",y_train,\"\\n\",X_test,\"\\n\",y_test,\"\\n\")\n",
    "    return X_train,y_train,X_test,y_test\n",
    "\n",
    "X_train,y_train,X_test,y_test = FUNC_Time(df_train,df_test)"
   ]
  },
  {
   "cell_type": "code",
   "execution_count": null,
   "metadata": {},
   "outputs": [],
   "source": [
    "model.fit(X_train,y_train, epochs=100,batch_size=4096,class_weight=1 )"
   ]
  },
  {
   "cell_type": "markdown",
   "metadata": {},
   "source": [
    "h1 units 16 1.8535e-06\n",
    "h1 units 32 1.9282e-06"
   ]
  },
  {
   "cell_type": "code",
   "execution_count": null,
   "metadata": {},
   "outputs": [],
   "source": [
    "predict = model.predict(X_test)#.round(5)"
   ]
  },
  {
   "cell_type": "code",
   "execution_count": null,
   "metadata": {},
   "outputs": [],
   "source": [
    "predict,y_test"
   ]
  },
  {
   "cell_type": "code",
   "execution_count": null,
   "metadata": {},
   "outputs": [],
   "source": [
    "print(predict)\n",
    "print(((predict-y_test)))#.round(5)\n",
    "predict = scaler.inverse_transform(predict)\n",
    "y_test  = scaler.inverse_transform(y_test)\n",
    "\n",
    "fark2 = predict[:50]-y_test[:50]\n",
    "\n",
    "predict = pd.DataFrame(((predict)),columns=['High_Predict','Low_Predict','Close_Predict'])\n",
    "y_test = pd.DataFrame(((y_test)),columns=['High_Reel','Low_Reel','Close_Reel'])\n",
    "X_test = pd.DataFrame(((X_test)),columns=['Open'])\n",
    "\n",
    "\n",
    "found  = pd.concat([X_test,predict],axis=1)\n",
    "expect = pd.concat([X_test,y_test],axis=1)\n",
    "print((predict[i]/carpan).round(5),(y_test[i]/carpan).round(5))\n",
    "print(fark2,\"\\n \\n\",expect,\"\\n \\n\",found)"
   ]
  },
  {
   "cell_type": "code",
   "execution_count": null,
   "metadata": {},
   "outputs": [],
   "source": [
    "test= X_test.reshape(56086,2)\n",
    "yy   = y_test.reshape(56086,3)\n",
    "pre = np.array(predict).reshape(56086,3)\n",
    "plt.plot(test[0],[yy[0],yy[1],yy[2]],color='blue')\n",
    "plt.plot(test[0],[pre[0],pre[1],pre[2]],color='red')"
   ]
  },
  {
   "cell_type": "code",
   "execution_count": null,
   "metadata": {},
   "outputs": [],
   "source": [
    "yeni = np.array([1.09160])\n",
    "\n",
    "model.predict(yeni.reshape(-1,1))#.round(5)"
   ]
  },
  {
   "cell_type": "code",
   "execution_count": null,
   "metadata": {},
   "outputs": [],
   "source": [
    "#from tensorflow.python.client import device_lib\n",
    "#import tensorflow as tf\n",
    "#tf.debugging.set_log_device_placement(True)\n",
    "#print(device_lib.list_local_devices())"
   ]
  }
 ],
 "metadata": {
  "interpreter": {
   "hash": "9be36568d6e1ad3ef5e45a047b2a90023b0fdaabc133feaf6b9e90deff153f56"
  },
  "kernelspec": {
   "display_name": "Python 3.9.5 ('base')",
   "language": "python",
   "name": "python3"
  },
  "language_info": {
   "codemirror_mode": {
    "name": "ipython",
    "version": 3
   },
   "file_extension": ".py",
   "mimetype": "text/x-python",
   "name": "python",
   "nbconvert_exporter": "python",
   "pygments_lexer": "ipython3",
   "version": "3.9.5"
  },
  "orig_nbformat": 4
 },
 "nbformat": 4,
 "nbformat_minor": 2
}
