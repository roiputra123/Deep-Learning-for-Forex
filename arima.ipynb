{
 "cells": [
  {
   "cell_type": "code",
   "execution_count": null,
   "metadata": {},
   "outputs": [],
   "source": [
    "import numpy as np\n",
    "import matplotlib.pyplot as plt\n",
    "from numpy.core.fromnumeric import reshape\n",
    "import pandas as pd\n",
    "import datetime\n",
    "import time\n",
    "from sklearn import preprocessing\n",
    "from sklearn.model_selection import train_test_split\n",
    "from sklearn.svm import SVC\n",
    "from sklearn.multioutput import MultiOutputClassifier\n",
    "from sklearn.ensemble import GradientBoostingClassifier\n",
    "from sklearn.tree import DecisionTreeClassifier\n",
    "from sklearn.neighbors import KNeighborsClassifier\n",
    "from sklearn.naive_bayes import GaussianNB\n",
    "from sklearn.ensemble import RandomForestClassifier\n",
    "from sklearn.linear_model import LogisticRegression\n",
    "import xgboost as xgb\n",
    "from sklearn.model_selection import KFold, cross_val_score, train_test_split\n",
    "\n",
    "x_test =0\n",
    "y_test =0\n",
    "x_train =0\n",
    "y_train =0\n",
    "date =0\n",
    "sec =0\n",
    "high= 0.0\n",
    "low= 0.0\n",
    "close= 0.0\n",
    "open = 0.0\n",
    "\n",
    "name = '4_H12'\n",
    "\n",
    "#datas      = pd.read_csv('/content/drive/Othercomputers/2022 Masaüstü/Dersler 2022/Dersler-2021-2022-Donem-2/Lisans Projesi/EURUSD_'+name+'_hazirVeri.csv', header=1)\n",
    "datas      = pd.read_csv('EURUSD_'+name+'_hazirVeri.csv', header=1)\n",
    "datas_df   = pd.DataFrame(datas.values,columns=[\"Index\",\"Date\",\"Time\",\"Open\",\"High\",\"Low\",\"Close\",\"month_sin\",\"month_cos\",'weekly_sin','weekly_cos',\"day_sin\",\"day_cos\",\"hour_sin\",\"hour_cos\",\"minute_sin\",\"minute_cos\"])\n",
    "datas_df\n",
    "\n",
    "high= datas_df[['High']].round(5)\n",
    "low= datas_df[['Low']].round(5)\n",
    "close= datas_df[['Close']].round(5)\n",
    "open= datas_df[['Open']].round(5)\n",
    "\n",
    "datas_df = datas_df.drop('High',axis=1)\n",
    "datas_df = datas_df.drop('Low',axis=1)\n",
    "datas_df = datas_df.drop('Close',axis=1)\n",
    "datas_df = datas_df.drop('Open',axis=1)\n",
    "#datas_df = datas_df.drop('Index',axis=1)\n",
    "\n",
    "#datas_df = datas_df.drop('month_sin',axis=1)\n",
    "#datas_df = datas_df.drop('month_cos',axis=1)\n",
    "#datas_df = datas_df.drop('hour_sin',axis=1)\n",
    "#datas_df = datas_df.drop('hour_cos',axis=1)\n",
    "#datas_df = datas_df.drop('minute_sin',axis=1)\n",
    "#datas_df = datas_df.drop('minute_cos',axis=1)"
   ]
  },
  {
   "cell_type": "code",
   "execution_count": null,
   "metadata": {},
   "outputs": [],
   "source": [
    "import datetime\n",
    "from pandas import read_csv\n",
    "from pandas import DataFrame\n",
    "from statsmodels.tsa.arima.model import ARIMA\n",
    "from matplotlib import pyplot\n",
    "import pandas as pd\n",
    "import numpy as np\n",
    "# load dataset\n",
    "def parser(x):\n",
    "\treturn pd.to_datetime(x,format='%Y-%m-%d %H:%M:%S')\n",
    "name = '4_H12'\n",
    "series = read_csv('EURUSD_'+name+'_hazirVeri_yeni.csv', header=1,parse_dates=[1], index_col=0,squeeze=True, date_parser=parser)\n",
    "datas_df = pd.DataFrame(series.values,columns=[\"Date\",\"Open\",\"High\",\"Low\",\"Close\"])\n",
    "datas_df_modify = pd.concat([datas_df['Close']],axis=1)\n",
    "#datas_df_modify = np.asarray(datas_df_modify)\n",
    "datas_df\n",
    "datas_df_modify.index = series.index.to_period('M')\n",
    "# fit model\n",
    "model = ARIMA(datas_df_modify, order=(5,1,0))\n",
    "model_fit = model.fit()\n",
    "# summary of fit model\n",
    "print(model_fit.summary())\n",
    "# line plot of residuals\n",
    "residuals = DataFrame(model_fit.resid)\n",
    "residuals.plot()\n",
    "pyplot.show()\n",
    "# density plot of residuals\n",
    "residuals.plot(kind='kde')\n",
    "pyplot.show()\n",
    "# summary stats of residuals\n",
    "print(residuals.describe())"
   ]
  },
  {
   "cell_type": "code",
   "execution_count": null,
   "metadata": {},
   "outputs": [],
   "source": [
    "fig, axes = plt.subplots(nrows=5, ncols=1, dpi=120, figsize=(10,6))\n",
    "for i, ax in enumerate(axes.flatten()):\n",
    "    data = df[df.columns[i]]\n",
    "    ax.plot(data, color='red', linewidth=1)\n",
    "    # Decorations\n",
    "    ax.set_title(df.columns[i])\n",
    "    ax.xaxis.set_ticks_position('none')\n",
    "    ax.yaxis.set_ticks_position('none')\n",
    "    ax.spines[\"top\"].set_alpha(0)\n",
    "    ax.tick_params(labelsize=6)\n",
    "\n",
    "plt.tight_layout()"
   ]
  },
  {
   "cell_type": "code",
   "execution_count": null,
   "metadata": {},
   "outputs": [],
   "source": [
    "type(df['Date'])"
   ]
  }
 ],
 "metadata": {
  "interpreter": {
   "hash": "9be36568d6e1ad3ef5e45a047b2a90023b0fdaabc133feaf6b9e90deff153f56"
  },
  "kernelspec": {
   "display_name": "Python 3.9.5 64-bit ('base': conda)",
   "language": "python",
   "name": "python3"
  },
  "language_info": {
   "codemirror_mode": {
    "name": "ipython",
    "version": 3
   },
   "file_extension": ".py",
   "mimetype": "text/x-python",
   "name": "python",
   "nbconvert_exporter": "python",
   "pygments_lexer": "ipython3",
   "version": "3.9.5"
  },
  "orig_nbformat": 4
 },
 "nbformat": 4,
 "nbformat_minor": 2
}
