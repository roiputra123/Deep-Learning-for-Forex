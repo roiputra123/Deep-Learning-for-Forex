{
 "cells": [
  {
   "cell_type": "code",
   "execution_count": 18,
   "metadata": {},
   "outputs": [
    {
     "data": {
      "text/plain": [
       "Index    object\n",
       "Date     object\n",
       "Open     object\n",
       "High     object\n",
       "Low      object\n",
       "Close    object\n",
       "dtype: object"
      ]
     },
     "execution_count": 18,
     "metadata": {},
     "output_type": "execute_result"
    }
   ],
   "source": [
    "import numpy.polynomial.polynomial as poly\n",
    "import pandas as pd\n",
    "import numpy as np\n",
    "\n",
    "import matplotlib.pyplot as plt\n",
    "\n",
    "name = '4_H12'\n",
    "\n",
    "#datas      = pd.read_csv('/content/drive/Othercomputers/2022 Masaüstü/Dersler 2022/Dersler-2021-2022-Donem-2/Lisans Projesi/EURUSD_'+name+'_hazirVeri.csv', header=1)\n",
    "datas      = pd.read_csv('EURUSD_'+name+'_hazirVeri_yeni.csv', header=1 , parse_dates=True)\n",
    "df   = pd.DataFrame(datas.values,columns=[\"Index\",\"Date\",\"Open\",\"High\",\"Low\",\"Close\"])\n",
    "df.dtypes\n"
   ]
  }
 ],
 "metadata": {
  "interpreter": {
   "hash": "9be36568d6e1ad3ef5e45a047b2a90023b0fdaabc133feaf6b9e90deff153f56"
  },
  "kernelspec": {
   "display_name": "Python 3.9.5 ('base')",
   "language": "python",
   "name": "python3"
  },
  "language_info": {
   "codemirror_mode": {
    "name": "ipython",
    "version": 3
   },
   "file_extension": ".py",
   "mimetype": "text/x-python",
   "name": "python",
   "nbconvert_exporter": "python",
   "pygments_lexer": "ipython3",
   "version": "3.9.5"
  },
  "orig_nbformat": 4
 },
 "nbformat": 4,
 "nbformat_minor": 2
}
