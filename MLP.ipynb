{
 "cells": [
  {
   "cell_type": "code",
   "execution_count": null,
   "metadata": {},
   "outputs": [],
   "source": [
    "import numpy as np\n",
    "import matplotlib.pyplot as plt\n",
    "from numpy.core.fromnumeric import reshape\n",
    "import pandas as pd\n",
    "import datetime\n",
    "import time\n",
    "from sklearn import preprocessing\n",
    "from sklearn.model_selection import train_test_split\n",
    "from sklearn.svm import SVC\n",
    "from sklearn.multioutput import MultiOutputClassifier\n",
    "from sklearn.ensemble import GradientBoostingClassifier\n",
    "from sklearn.tree import DecisionTreeClassifier\n",
    "from sklearn.neighbors import KNeighborsClassifier\n",
    "from sklearn.naive_bayes import GaussianNB\n",
    "from sklearn.ensemble import RandomForestClassifier\n",
    "from sklearn.linear_model import LogisticRegression\n",
    "import xgboost as xgb\n",
    "from sklearn.model_selection import KFold, cross_val_score, train_test_split\n",
    "from sklearn.neural_network import MLPRegressor\n",
    "mlp = MLPRegressor(hidden_layer_sizes=(100,),activation='logistic')\n",
    "mlp.solver = 'lbfgs'\n",
    "mlp.max_iter=10000\n",
    "\n",
    "x_test =0\n",
    "y_test =0\n",
    "x_train =0\n",
    "y_train =0\n",
    "date =0\n",
    "sec =0\n",
    "high= 0.0\n",
    "low= 0.0\n",
    "close= 0.0\n",
    "open = 0.0\n",
    "\n",
    "name = '4_H12'\n",
    "\n",
    "#datas      = pd.read_csv('/content/drive/Othercomputers/2022 Masaüstü/Dersler 2022/Dersler-2021-2022-Donem-2/Lisans Projesi/EURUSD_'+name+'_hazirVeri.csv', header=1)\n",
    "datas      = pd.read_csv('EURUSD_'+name+'_hazirVeri.csv', header=1)\n",
    "datas_df   = pd.DataFrame(datas.values,columns=[\"Index\",\"Date\",\"Time\",\"Open\",\"High\",\"Low\",\"Close\",\"month_sin\",\"month_cos\",'weekly_sin','weekly_cos',\"day_sin\",\"day_cos\",\"hour_sin\",\"hour_cos\",\"minute_sin\",\"minute_cos\"])\n",
    "datas_df\n",
    "\n",
    "high= datas_df[['High']].round(5)\n",
    "low= datas_df[['Low']].round(5)\n",
    "close= datas_df[['Close']].round(5)\n",
    "open= datas_df[['Open']].round(5)\n",
    "\n",
    "datas_df = datas_df.drop('High',axis=1)\n",
    "datas_df = datas_df.drop('Low',axis=1)\n",
    "datas_df = datas_df.drop('Close',axis=1)\n",
    "datas_df = datas_df.drop('Open',axis=1)\n",
    "#datas_df = datas_df.drop('Index',axis=1)\n",
    "\n",
    "#datas_df = datas_df.drop('month_sin',axis=1)\n",
    "#datas_df = datas_df.drop('month_cos',axis=1)\n",
    "#datas_df = datas_df.drop('hour_sin',axis=1)\n",
    "#datas_df = datas_df.drop('hour_cos',axis=1)\n",
    "#datas_df = datas_df.drop('minute_sin',axis=1)\n",
    "#datas_df = datas_df.drop('minute_cos',axis=1)"
   ]
  },
  {
   "cell_type": "code",
   "execution_count": null,
   "metadata": {},
   "outputs": [],
   "source": [
    "datas_df.describe().transpose()"
   ]
  },
  {
   "cell_type": "code",
   "execution_count": null,
   "metadata": {},
   "outputs": [],
   "source": [
    "sin = datas_df['month_sin']\n",
    "cos = datas_df['month_cos']\n",
    "sin = datas_df['weekly_sin'] + sin\n",
    "cos = datas_df['weekly_cos'] + cos\n",
    "sin = datas_df['day_sin'] + sin\n",
    "cos = datas_df['day_cos'] + cos\n",
    "sin = datas_df['hour_sin'] + sin\n",
    "cos = datas_df['hour_cos'] + cos\n",
    "sin = datas_df['minute_sin'] + sin\n",
    "cos = datas_df['minute_cos'] + cos\n",
    "\n",
    "\n",
    "date =  pd.concat([sin,cos],axis=1)\n",
    "\n",
    "sec = pd.concat([open,close,high,low],axis=1)\n",
    "sec,date"
   ]
  },
  {
   "cell_type": "code",
   "execution_count": null,
   "metadata": {},
   "outputs": [],
   "source": [
    "sin = date.values\n",
    "cos = sec.values\n",
    "open = open.values\n",
    "close = close.values\n",
    "high = high.values\n",
    "low = low.values\n",
    "date = date.values\n",
    "sec  = sec.values\n",
    "\n",
    "sin_train, sin_test, close_train, close_test = train_test_split(sin, close, test_size=0.33, random_state=0)\n",
    "sin_train, sin_test, open_train,  open_test  = train_test_split(sin, open,  test_size=0.33, random_state=0)\n",
    "sin_train, sin_test, high_train,  high_test  = train_test_split(sin, high,  test_size=0.33, random_state=0)\n",
    "sin_train, sin_test, low_train,   low_test   = train_test_split(sin, low,   test_size=0.33, random_state=0)\n",
    "x_train, x_test, y_train,   y_test   = train_test_split(date, sec,   test_size=0.33, random_state=0)\n",
    "\n",
    "sin_train   = np.asarray(sin_train, dtype=\"|S6\")\n",
    "close_train = np.asarray(close_train, dtype=\"|S6\")\n",
    "sin_train   = np.asarray(sin_train, dtype=\"|S6\")\n",
    "open_train = np.asarray(open_train, dtype=\"|S6\")\n",
    "x_train = np.asarray(x_train, dtype=\"|S6\")\n",
    "y_train= np.asarray(y_train, dtype=\"|S6\")\n",
    "\n"
   ]
  },
  {
   "cell_type": "code",
   "execution_count": null,
   "metadata": {},
   "outputs": [],
   "source": [
    "from sklearn.neural_network import MLPClassifier\n",
    "\n",
    "mlp = MLPClassifier(hidden_layer_sizes=(4,4,4), activation='relu', solver='adam', max_iter=100)\n",
    "mlp.fit(sin_train,close_train)\n",
    "mlp.fit(sin_train,open_train)\n",
    "\n"
   ]
  },
  {
   "cell_type": "code",
   "execution_count": null,
   "metadata": {},
   "outputs": [],
   "source": [
    "predict_train = mlp.predict(sin_train)\n",
    "predict_test  = mlp.predict(sin_test)"
   ]
  },
  {
   "cell_type": "code",
   "execution_count": null,
   "metadata": {},
   "outputs": [],
   "source": [
    "open_test,close_test,predict_test"
   ]
  },
  {
   "cell_type": "code",
   "execution_count": null,
   "metadata": {},
   "outputs": [],
   "source": [
    "total = np.sum(abs(y_test-predict))/np.size(y_test)\n",
    "total"
   ]
  }
 ],
 "metadata": {
  "interpreter": {
   "hash": "9be36568d6e1ad3ef5e45a047b2a90023b0fdaabc133feaf6b9e90deff153f56"
  },
  "kernelspec": {
   "display_name": "Python 3.9.5 64-bit ('base': conda)",
   "language": "python",
   "name": "python3"
  },
  "language_info": {
   "codemirror_mode": {
    "name": "ipython",
    "version": 3
   },
   "file_extension": ".py",
   "mimetype": "text/x-python",
   "name": "python",
   "nbconvert_exporter": "python",
   "pygments_lexer": "ipython3",
   "version": "3.9.5"
  },
  "orig_nbformat": 4
 },
 "nbformat": 4,
 "nbformat_minor": 2
}
