{
 "cells": [
  {
   "cell_type": "code",
   "execution_count": 1,
   "metadata": {},
   "outputs": [
    {
     "data": {
      "text/plain": [
       "(         Unnamed: 0     Open     High      Low    Close  month_sin  month_cos  \\\n",
       " 0                 0  1.00790  1.00790  1.00790  1.00790        0.5    0.86603   \n",
       " 1                 1  1.00780  1.00800  1.00770  1.00800        0.5    0.86603   \n",
       " 2                 2  1.00790  1.00790  1.00790  1.00790        0.5    0.86603   \n",
       " 3                 3  1.00800  1.00800  1.00770  1.00770        0.5    0.86603   \n",
       " 4                 4  1.00780  1.00790  1.00760  1.00770        0.5    0.86603   \n",
       " ...             ...      ...      ...      ...      ...        ...        ...   \n",
       " 7989910     7989910  1.13245  1.13253  1.13244  1.13253       -0.0    1.00000   \n",
       " 7989911     7989911  1.13253  1.13254  1.13251  1.13252       -0.0    1.00000   \n",
       " 7989912     7989912  1.13253  1.13253  1.13246  1.13248       -0.0    1.00000   \n",
       " 7989913     7989913  1.13253  1.13257  1.13251  1.13256       -0.0    1.00000   \n",
       " 7989914     7989914  1.13244  1.13244  1.13244  1.13244       -0.0    1.00000   \n",
       " \n",
       "          day_sin  day_cos  hour_sin  hour_cos  minute_sin  minute_cos  \n",
       " 0        0.05159  0.99867   0.00000   1.00000     0.20791     0.97815  \n",
       " 1        0.05159  0.99867   0.00000   1.00000     0.40674     0.91355  \n",
       " 2        0.05159  0.99867   0.00000   1.00000     0.95106     0.30902  \n",
       " 3        0.05159  0.99867   0.00000   1.00000     0.97815     0.20791  \n",
       " 4        0.05159  0.99867   0.00000   1.00000     0.99452     0.10453  \n",
       " ...          ...      ...       ...       ...         ...         ...  \n",
       " 7989910  0.49348  0.86976  -0.25882   0.96593    -0.40674     0.91355  \n",
       " 7989911  0.49348  0.86976  -0.25882   0.96593    -0.30902     0.95106  \n",
       " 7989912  0.49348  0.86976  -0.25882   0.96593    -0.20791     0.97815  \n",
       " 7989913  0.49348  0.86976  -0.25882   0.96593    -0.10453     0.99452  \n",
       " 7989914  0.50837  0.86114   0.00000   1.00000     0.00000     1.00000  \n",
       " \n",
       " [7989915 rows x 13 columns],\n",
       "        Unnamed: 0     Open     High      Low    Close  month_sin  month_cos  \\\n",
       " 0               0  1.13689  1.13690  1.13652  1.13655    0.50000    0.86603   \n",
       " 1               1  1.13655  1.13678  1.13645  1.13678    0.50000    0.86603   \n",
       " 2               2  1.13678  1.13678  1.13673  1.13675    0.50000    0.86603   \n",
       " 3               3  1.13674  1.13674  1.13674  1.13674    0.50000    0.86603   \n",
       " 4               4  1.13674  1.13688  1.13669  1.13688    0.50000    0.86603   \n",
       " ...           ...      ...      ...      ...      ...        ...        ...   \n",
       " 56081       56081  1.11922  1.11928  1.11922  1.11928    0.86603    0.50000   \n",
       " 56082       56082  1.11929  1.11940  1.11929  1.11935    0.86603    0.50000   \n",
       " 56083       56083  1.11935  1.11950  1.11930  1.11932    0.86603    0.50000   \n",
       " 56084       56084  1.11932  1.11932  1.11914  1.11919    0.86603    0.50000   \n",
       " 56085       56085  1.11908  1.11911  1.11908  1.11911    0.86603    0.50000   \n",
       " \n",
       "        day_sin  day_cos  hour_sin  hour_cos  minute_sin  minute_cos  \n",
       " 0      0.05159  0.99867   0.00000   1.00000     0.58779     0.80902  \n",
       " 1      0.05159  0.99867   0.00000   1.00000     0.66913     0.74314  \n",
       " 2      0.05159  0.99867   0.00000   1.00000     0.74314     0.66913  \n",
       " 3      0.05159  0.99867   0.00000   1.00000     0.80902     0.58779  \n",
       " 4      0.05159  0.99867   0.00000   1.00000     0.86603     0.50000  \n",
       " ...        ...      ...       ...       ...         ...         ...  \n",
       " 56081  0.40124  0.91597  -0.25882   0.96593    -0.40674     0.91355  \n",
       " 56082  0.40124  0.91597  -0.25882   0.96593    -0.30902     0.95106  \n",
       " 56083  0.40124  0.91597  -0.25882   0.96593    -0.20791     0.97815  \n",
       " 56084  0.40124  0.91597  -0.25882   0.96593    -0.10453     0.99452  \n",
       " 56085  0.41693  0.90894   0.00000   1.00000     0.00000     1.00000  \n",
       " \n",
       " [56086 rows x 13 columns])"
      ]
     },
     "execution_count": 1,
     "metadata": {},
     "output_type": "execute_result"
    }
   ],
   "source": [
    "# multivariate multi-step stacked lstm example\n",
    "from numpy import array\n",
    "from numpy import hstack\n",
    "from keras.models import Sequential\n",
    "from keras.layers import LSTM\n",
    "from keras.layers import Dense\n",
    "import matplotlib.pyplot as plt\n",
    "from pandas import read_csv\n",
    "import math\n",
    "from keras.models import Sequential\n",
    "from keras.layers import Dense\n",
    "from keras.layers import LSTM\n",
    "from sklearn.preprocessing import MinMaxScaler\n",
    "from sklearn.metrics import mean_squared_error\n",
    "from sklearn.model_selection import train_test_split\n",
    "import pandas as pd\n",
    "import numpy as np\n",
    "from keras.layers.core import Dense, Activation, Dropout\n",
    "from datetime import datetime\n",
    "import time\n",
    "from keras.activations import *\n",
    "import tensorflow as tf\n",
    "import os\n",
    "os.environ[\"CUDA_DEVICE_ORDER\"] = \"PCI_BUS_ID\"\n",
    "os.environ['CUDA_VISIBLE_DEVICES'] = '0'\n",
    "#sess = tf.Session(config=tf.ConfigProto(log_device_placement=True))\n",
    "scaler  = MinMaxScaler()\n",
    "\n",
    "df_train =0\n",
    "df_test  =0\n",
    "carpan =1\n",
    "name =\"M1\"\n",
    "\n",
    "def TimeStamps(dataframe_Date):\n",
    "    dTime = dataframe_Date\n",
    "    if name == ('Weekly'or 'Daily' or 'Monthly'):\n",
    "        return pd.DataFrame(array([datetime.strptime((dTime[i]),'%Y %m %d').timestamp() for i in range(len(dTime))]))#%H:%M:%S\n",
    "    else :\n",
    "        return pd.DataFrame(array([datetime.strptime((dTime[i]),'%Y %m %d %H %M %S').timestamp() for i in range(len(dTime))]))\n",
    "\n",
    "import dill\n",
    "try:\n",
    "    \n",
    "    df_train = read_csv('/content/drive/Othercomputers/2022 Masaüstü 2/Dersler 2022/Dersler-2021-2022-Donem-2/Lisans Projesi/EURUSD_'+name+'_hazirVeri_train_dongulu.csv', engine='python')\n",
    "    df_test  = read_csv('/content/drive/Othercomputers/2022 Masaüstü 2/Dersler 2022/Dersler-2021-2022-Donem-2/Lisans Projesi/EURUSD_'+name+'_hazirVeri_test_dongulu.csv', engine='python')\n",
    "    #df_train['Date'] = TimeStamps(df_train['Date'])\n",
    "    #df_test['Date']  = TimeStamps(df_test['Date'])\n",
    "    dill.dump_session('/content/drive/Othercomputers/2022 Masaüstü 2/Dersler 2022/Dersler-2021-2022-Donem-2/Lisans Projesi/'+name+'_dataframes_dongulu.db')\n",
    "    \"\"\"\n",
    "    dill.load_session('/content/drive/Othercomputers/2022 Masaüstü 2/Dersler 2022/Dersler-2021-2022-Donem-2/Lisans Projesi/'+name+'_dataframes_dongulu.db')\n",
    "    \"\"\"\n",
    "except:\n",
    "    \n",
    "    df_train = read_csv('EURUSD_'+name+'_hazirVeri_train_dongulu.csv', engine='python')\n",
    "    df_test  = read_csv('EURUSD_'+name+'_hazirVeri_test_dongulu.csv' , engine='python')\n",
    "    #df_train['Date'] = TimeStamps(df_train['Date'])\n",
    "    #df_test['Date']  = TimeStamps(df_test['Date'])\n",
    "    dill.dump_session(name+'_dataframes_dongulu.db')\n",
    "    \"\"\"\n",
    "    dill.load_session(name+'_dataframes_dongulu.db')\n",
    "    \"\"\"\n",
    "\n",
    "\n",
    "\n",
    "df_train,df_test"
   ]
  },
  {
   "cell_type": "code",
   "execution_count": 2,
   "metadata": {},
   "outputs": [
    {
     "ename": "KeyError",
     "evalue": "'weekly_sin'",
     "output_type": "error",
     "traceback": [
      "\u001b[1;31m---------------------------------------------------------------------------\u001b[0m",
      "\u001b[1;31mKeyError\u001b[0m                                  Traceback (most recent call last)",
      "\u001b[1;32m~\\miniconda3\\lib\\site-packages\\pandas\\core\\indexes\\base.py\u001b[0m in \u001b[0;36mget_loc\u001b[1;34m(self, key, method, tolerance)\u001b[0m\n\u001b[0;32m   3360\u001b[0m             \u001b[1;32mtry\u001b[0m\u001b[1;33m:\u001b[0m\u001b[1;33m\u001b[0m\u001b[1;33m\u001b[0m\u001b[0m\n\u001b[1;32m-> 3361\u001b[1;33m                 \u001b[1;32mreturn\u001b[0m \u001b[0mself\u001b[0m\u001b[1;33m.\u001b[0m\u001b[0m_engine\u001b[0m\u001b[1;33m.\u001b[0m\u001b[0mget_loc\u001b[0m\u001b[1;33m(\u001b[0m\u001b[0mcasted_key\u001b[0m\u001b[1;33m)\u001b[0m\u001b[1;33m\u001b[0m\u001b[1;33m\u001b[0m\u001b[0m\n\u001b[0m\u001b[0;32m   3362\u001b[0m             \u001b[1;32mexcept\u001b[0m \u001b[0mKeyError\u001b[0m \u001b[1;32mas\u001b[0m \u001b[0merr\u001b[0m\u001b[1;33m:\u001b[0m\u001b[1;33m\u001b[0m\u001b[1;33m\u001b[0m\u001b[0m\n",
      "\u001b[1;32m~\\miniconda3\\lib\\site-packages\\pandas\\_libs\\index.pyx\u001b[0m in \u001b[0;36mpandas._libs.index.IndexEngine.get_loc\u001b[1;34m()\u001b[0m\n",
      "\u001b[1;32m~\\miniconda3\\lib\\site-packages\\pandas\\_libs\\index.pyx\u001b[0m in \u001b[0;36mpandas._libs.index.IndexEngine.get_loc\u001b[1;34m()\u001b[0m\n",
      "\u001b[1;32mpandas\\_libs\\hashtable_class_helper.pxi\u001b[0m in \u001b[0;36mpandas._libs.hashtable.PyObjectHashTable.get_item\u001b[1;34m()\u001b[0m\n",
      "\u001b[1;32mpandas\\_libs\\hashtable_class_helper.pxi\u001b[0m in \u001b[0;36mpandas._libs.hashtable.PyObjectHashTable.get_item\u001b[1;34m()\u001b[0m\n",
      "\u001b[1;31mKeyError\u001b[0m: 'weekly_sin'",
      "\nThe above exception was the direct cause of the following exception:\n",
      "\u001b[1;31mKeyError\u001b[0m                                  Traceback (most recent call last)",
      "\u001b[1;32m~\\AppData\\Local\\Temp/ipykernel_41148/2307158597.py\u001b[0m in \u001b[0;36m<module>\u001b[1;34m\u001b[0m\n\u001b[0;32m      1\u001b[0m \u001b[0msin\u001b[0m \u001b[1;33m=\u001b[0m \u001b[0mdf_train\u001b[0m\u001b[1;33m[\u001b[0m\u001b[1;34m'month_sin'\u001b[0m\u001b[1;33m]\u001b[0m\u001b[1;33m\u001b[0m\u001b[1;33m\u001b[0m\u001b[0m\n\u001b[0;32m      2\u001b[0m \u001b[0mcos\u001b[0m \u001b[1;33m=\u001b[0m \u001b[0mdf_train\u001b[0m\u001b[1;33m[\u001b[0m\u001b[1;34m'month_cos'\u001b[0m\u001b[1;33m]\u001b[0m\u001b[1;33m\u001b[0m\u001b[1;33m\u001b[0m\u001b[0m\n\u001b[1;32m----> 3\u001b[1;33m \u001b[0msin\u001b[0m \u001b[1;33m=\u001b[0m \u001b[0mdf_train\u001b[0m\u001b[1;33m[\u001b[0m\u001b[1;34m'weekly_sin'\u001b[0m\u001b[1;33m]\u001b[0m \u001b[1;33m+\u001b[0m \u001b[0msin\u001b[0m\u001b[1;33m\u001b[0m\u001b[1;33m\u001b[0m\u001b[0m\n\u001b[0m\u001b[0;32m      4\u001b[0m \u001b[0mcos\u001b[0m \u001b[1;33m=\u001b[0m \u001b[0mdf_train\u001b[0m\u001b[1;33m[\u001b[0m\u001b[1;34m'weekly_cos'\u001b[0m\u001b[1;33m]\u001b[0m \u001b[1;33m+\u001b[0m \u001b[0mcos\u001b[0m\u001b[1;33m\u001b[0m\u001b[1;33m\u001b[0m\u001b[0m\n\u001b[0;32m      5\u001b[0m \u001b[0msin\u001b[0m \u001b[1;33m=\u001b[0m \u001b[0mdf_train\u001b[0m\u001b[1;33m[\u001b[0m\u001b[1;34m'day_sin'\u001b[0m\u001b[1;33m]\u001b[0m \u001b[1;33m+\u001b[0m \u001b[0msin\u001b[0m\u001b[1;33m\u001b[0m\u001b[1;33m\u001b[0m\u001b[0m\n",
      "\u001b[1;32m~\\miniconda3\\lib\\site-packages\\pandas\\core\\frame.py\u001b[0m in \u001b[0;36m__getitem__\u001b[1;34m(self, key)\u001b[0m\n\u001b[0;32m   3456\u001b[0m             \u001b[1;32mif\u001b[0m \u001b[0mself\u001b[0m\u001b[1;33m.\u001b[0m\u001b[0mcolumns\u001b[0m\u001b[1;33m.\u001b[0m\u001b[0mnlevels\u001b[0m \u001b[1;33m>\u001b[0m \u001b[1;36m1\u001b[0m\u001b[1;33m:\u001b[0m\u001b[1;33m\u001b[0m\u001b[1;33m\u001b[0m\u001b[0m\n\u001b[0;32m   3457\u001b[0m                 \u001b[1;32mreturn\u001b[0m \u001b[0mself\u001b[0m\u001b[1;33m.\u001b[0m\u001b[0m_getitem_multilevel\u001b[0m\u001b[1;33m(\u001b[0m\u001b[0mkey\u001b[0m\u001b[1;33m)\u001b[0m\u001b[1;33m\u001b[0m\u001b[1;33m\u001b[0m\u001b[0m\n\u001b[1;32m-> 3458\u001b[1;33m             \u001b[0mindexer\u001b[0m \u001b[1;33m=\u001b[0m \u001b[0mself\u001b[0m\u001b[1;33m.\u001b[0m\u001b[0mcolumns\u001b[0m\u001b[1;33m.\u001b[0m\u001b[0mget_loc\u001b[0m\u001b[1;33m(\u001b[0m\u001b[0mkey\u001b[0m\u001b[1;33m)\u001b[0m\u001b[1;33m\u001b[0m\u001b[1;33m\u001b[0m\u001b[0m\n\u001b[0m\u001b[0;32m   3459\u001b[0m             \u001b[1;32mif\u001b[0m \u001b[0mis_integer\u001b[0m\u001b[1;33m(\u001b[0m\u001b[0mindexer\u001b[0m\u001b[1;33m)\u001b[0m\u001b[1;33m:\u001b[0m\u001b[1;33m\u001b[0m\u001b[1;33m\u001b[0m\u001b[0m\n\u001b[0;32m   3460\u001b[0m                 \u001b[0mindexer\u001b[0m \u001b[1;33m=\u001b[0m \u001b[1;33m[\u001b[0m\u001b[0mindexer\u001b[0m\u001b[1;33m]\u001b[0m\u001b[1;33m\u001b[0m\u001b[1;33m\u001b[0m\u001b[0m\n",
      "\u001b[1;32m~\\miniconda3\\lib\\site-packages\\pandas\\core\\indexes\\base.py\u001b[0m in \u001b[0;36mget_loc\u001b[1;34m(self, key, method, tolerance)\u001b[0m\n\u001b[0;32m   3361\u001b[0m                 \u001b[1;32mreturn\u001b[0m \u001b[0mself\u001b[0m\u001b[1;33m.\u001b[0m\u001b[0m_engine\u001b[0m\u001b[1;33m.\u001b[0m\u001b[0mget_loc\u001b[0m\u001b[1;33m(\u001b[0m\u001b[0mcasted_key\u001b[0m\u001b[1;33m)\u001b[0m\u001b[1;33m\u001b[0m\u001b[1;33m\u001b[0m\u001b[0m\n\u001b[0;32m   3362\u001b[0m             \u001b[1;32mexcept\u001b[0m \u001b[0mKeyError\u001b[0m \u001b[1;32mas\u001b[0m \u001b[0merr\u001b[0m\u001b[1;33m:\u001b[0m\u001b[1;33m\u001b[0m\u001b[1;33m\u001b[0m\u001b[0m\n\u001b[1;32m-> 3363\u001b[1;33m                 \u001b[1;32mraise\u001b[0m \u001b[0mKeyError\u001b[0m\u001b[1;33m(\u001b[0m\u001b[0mkey\u001b[0m\u001b[1;33m)\u001b[0m \u001b[1;32mfrom\u001b[0m \u001b[0merr\u001b[0m\u001b[1;33m\u001b[0m\u001b[1;33m\u001b[0m\u001b[0m\n\u001b[0m\u001b[0;32m   3364\u001b[0m \u001b[1;33m\u001b[0m\u001b[0m\n\u001b[0;32m   3365\u001b[0m         \u001b[1;32mif\u001b[0m \u001b[0mis_scalar\u001b[0m\u001b[1;33m(\u001b[0m\u001b[0mkey\u001b[0m\u001b[1;33m)\u001b[0m \u001b[1;32mand\u001b[0m \u001b[0misna\u001b[0m\u001b[1;33m(\u001b[0m\u001b[0mkey\u001b[0m\u001b[1;33m)\u001b[0m \u001b[1;32mand\u001b[0m \u001b[1;32mnot\u001b[0m \u001b[0mself\u001b[0m\u001b[1;33m.\u001b[0m\u001b[0mhasnans\u001b[0m\u001b[1;33m:\u001b[0m\u001b[1;33m\u001b[0m\u001b[1;33m\u001b[0m\u001b[0m\n",
      "\u001b[1;31mKeyError\u001b[0m: 'weekly_sin'"
     ]
    }
   ],
   "source": [
    "sin = df_train['month_sin']\n",
    "cos = df_train['month_cos']\n",
    "sin = df_train['weekly_sin'] + sin\n",
    "cos = df_train['weekly_cos'] + cos\n",
    "sin = df_train['day_sin'] + sin\n",
    "cos = df_train['day_cos'] + cos\n",
    "sin = df_train['hour_sin'] + sin\n",
    "cos = df_train['hour_cos'] + cos\n",
    "sin = df_train['minute_sin'] + sin\n",
    "cos = df_train['minute_cos'] + cos\n",
    "\n",
    "date =  pd.concat([sin,cos],axis=1)\n"
   ]
  },
  {
   "cell_type": "code",
   "execution_count": null,
   "metadata": {},
   "outputs": [],
   "source": [
    "model = Sequential()\n",
    "giris = 1\n",
    "cikis = 4\n",
    "def SetModel(units,train,dense,activations='relu',optimizer='adam', loss='mse'):\n",
    "    print(\"Set Mode train shape 0 : \",train.shape[0])\n",
    "    model.add(LSTM(units, activation=activations,input_shape=(1,giris),return_sequences=False))\n",
    "    #model.add(Dropout(0.2))\n",
    "    #model.add(Dense(1024, activation=activations))\n",
    "    #model.add(Dense(512, activation=activations))\n",
    "    model.add(Dense(dense))\n",
    "    model.compile(optimizer, loss)\n",
    "    print(model.summary())\n",
    "\n",
    "def setupDataFrame(dataFrame):\n",
    "    #X\n",
    "    X_Data = dataFrame\n",
    "    X_Data = X_Data.drop('Index',axis=1)\n",
    "    X_Data = X_Data.drop('High',axis=1)\n",
    "    X_Data = X_Data.drop('Close',axis=1)\n",
    "    X_Data = X_Data.drop('Low',axis=1)\n",
    "    if(giris==1):\n",
    "        X_Data = X_Data.drop('Open',axis=1)\n",
    "    #X_Data['Date'] = pd.to_datetime(X_Data['Date'], infer_datetime_format=True)\n",
    "    #X_Data.set_index('Date', inplace=True)\n",
    "    #X_Data['Date'] = X_Data['Date'].astype(float)\n",
    "    #X_Data = np.array(X_Data)\n",
    "    print(\"Orjinal Shape X :\",X_Data.shape)\n",
    "    X_Data = np.array(X_Data).reshape((len(X_Data),1,giris))\n",
    "    print(\"Yeni Shape X :\",X_Data.shape)\n",
    "    #X_Data = scaler.fit_transform(X_Data)#.round(5)\n",
    "\n",
    "    #Y\n",
    "    Y_Data = dataFrame\n",
    "    Y_Data = Y_Data.drop('Index',axis=1)\n",
    "    Y_Data = Y_Data.drop('Date',axis=1)\n",
    "    if(cikis==3):\n",
    "        Y_Data = Y_Data.drop('Open',axis=1)#\n",
    "    Y_Data = (Y_Data*carpan).values#.round(5)\n",
    "    print(\"Orjinal Shape Y :\",Y_Data.shape)\n",
    "    Y_Data = np.array(Y_Data).reshape((len(Y_Data),1,cikis))\n",
    "    #Y_Data = scaler.fit_transform(Y_Data)#.round(5)\n",
    "    print(\"Yeni Shape Y :\",Y_Data.shape)\n",
    "    #print(X_t,y_t)\n",
    "    return X_Data,Y_Data\n",
    "\n",
    "def FUNC_Time(train_dataframe,test_dataframe):\n",
    "    #X_train #Y_train\n",
    "    X_train,y_train =setupDataFrame(date)\n",
    "    #X_test #y_test\n",
    "    X_test,y_test = setupDataFrame(test_dataframe)\n",
    "    #SetModel\n",
    "    SetModel(units=2,train=X_train,dense=cikis)\n",
    "    #print(X_train.shape,y_train.shape,X_test.shape,y_test.shape)\n",
    "    print(X_train,\"\\n\",y_train,\"\\n\",X_test,\"\\n\",y_test,\"\\n\")\n",
    "    return X_train,y_train,X_test,y_test\n",
    "\n",
    "X_train,y_train,X_test,y_test = FUNC_Time(df_train,df_test)"
   ]
  },
  {
   "cell_type": "code",
   "execution_count": null,
   "metadata": {},
   "outputs": [],
   "source": [
    "model.fit(X_train,y_train, epochs=100,batch_size=4096,class_weight=1 )"
   ]
  },
  {
   "cell_type": "markdown",
   "metadata": {},
   "source": [
    "h1 units 16 1.8535e-06\n",
    "h1 units 32 1.9282e-06"
   ]
  },
  {
   "cell_type": "code",
   "execution_count": null,
   "metadata": {},
   "outputs": [],
   "source": [
    "predict = model.predict(X_test)#.round(5)"
   ]
  },
  {
   "cell_type": "code",
   "execution_count": null,
   "metadata": {},
   "outputs": [],
   "source": [
    "predict,y_test"
   ]
  },
  {
   "cell_type": "code",
   "execution_count": null,
   "metadata": {},
   "outputs": [],
   "source": [
    "print(predict)\n",
    "print(((predict-y_test)))#.round(5)\n",
    "predict = scaler.inverse_transform(predict)\n",
    "y_test  = scaler.inverse_transform(y_test)\n",
    "\n",
    "fark2 = predict[:50]-y_test[:50]\n",
    "\n",
    "predict = pd.DataFrame(((predict)),columns=['High_Predict','Low_Predict','Close_Predict'])\n",
    "y_test = pd.DataFrame(((y_test)),columns=['High_Reel','Low_Reel','Close_Reel'])\n",
    "X_test = pd.DataFrame(((X_test)),columns=['Open'])\n",
    "\n",
    "\n",
    "found  = pd.concat([X_test,predict],axis=1)\n",
    "expect = pd.concat([X_test,y_test],axis=1)\n",
    "print((predict[i]/carpan).round(5),(y_test[i]/carpan).round(5))\n",
    "print(fark2,\"\\n \\n\",expect,\"\\n \\n\",found)"
   ]
  },
  {
   "cell_type": "code",
   "execution_count": null,
   "metadata": {},
   "outputs": [],
   "source": [
    "test= X_test.reshape(56086,2)\n",
    "yy   = y_test.reshape(56086,3)\n",
    "pre = np.array(predict).reshape(56086,3)\n",
    "plt.plot(test[0],[yy[0],yy[1],yy[2]],color='blue')\n",
    "plt.plot(test[0],[pre[0],pre[1],pre[2]],color='red')"
   ]
  },
  {
   "cell_type": "code",
   "execution_count": null,
   "metadata": {},
   "outputs": [],
   "source": [
    "yeni = np.array([1.09160])\n",
    "\n",
    "model.predict(yeni.reshape(-1,1))#.round(5)"
   ]
  },
  {
   "cell_type": "code",
   "execution_count": null,
   "metadata": {},
   "outputs": [],
   "source": [
    "#from tensorflow.python.client import device_lib\n",
    "#import tensorflow as tf\n",
    "#tf.debugging.set_log_device_placement(True)\n",
    "#print(device_lib.list_local_devices())"
   ]
  }
 ],
 "metadata": {
  "interpreter": {
   "hash": "9be36568d6e1ad3ef5e45a047b2a90023b0fdaabc133feaf6b9e90deff153f56"
  },
  "kernelspec": {
   "display_name": "Python 3.9.5 ('base')",
   "language": "python",
   "name": "python3"
  },
  "language_info": {
   "codemirror_mode": {
    "name": "ipython",
    "version": 3
   },
   "file_extension": ".py",
   "mimetype": "text/x-python",
   "name": "python",
   "nbconvert_exporter": "python",
   "pygments_lexer": "ipython3",
   "version": "3.9.5"
  },
  "orig_nbformat": 4
 },
 "nbformat": 4,
 "nbformat_minor": 2
}
