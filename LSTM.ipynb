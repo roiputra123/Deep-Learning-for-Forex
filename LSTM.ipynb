{
 "cells": [
  {
   "cell_type": "code",
   "execution_count": 1,
   "metadata": {},
   "outputs": [],
   "source": [
    "# multivariate multi-step stacked lstm example\n",
    "from numpy import array\n",
    "from numpy import hstack\n",
    "from keras.models import Sequential\n",
    "from keras.layers import LSTM\n",
    "from keras.layers import Dense\n",
    "import matplotlib.pyplot as plt\n",
    "from pandas import read_csv\n",
    "import math\n",
    "from keras.models import Sequential\n",
    "from keras.layers import Dense\n",
    "from keras.layers import LSTM\n",
    "from sklearn.preprocessing import MinMaxScaler\n",
    "from sklearn.metrics import mean_squared_error\n",
    "from sklearn.model_selection import train_test_split\n",
    "import pandas as pd\n",
    "import numpy as np\n",
    "from keras.layers.core import Dense, Activation, Dropout\n",
    "from datetime import datetime\n",
    "import time"
   ]
  },
  {
   "cell_type": "code",
   "execution_count": 2,
   "metadata": {},
   "outputs": [],
   "source": [
    "# load the dataset\n",
    "name =\"Daily\"\n",
    "dataframe = read_csv('EURUSD_'+name+'_hazirVeri_train.csv', engine='python')"
   ]
  },
  {
   "cell_type": "code",
   "execution_count": 3,
   "metadata": {},
   "outputs": [],
   "source": [
    "dTime = dataframe['Date']\n",
    "datetime_object = [datetime.strptime((dTime[i]),'%Y-%m-%d').timestamp() for i in range(len(dTime))]#%H:%M:%S\n",
    "scaler  = MinMaxScaler(feature_range=(0, 1))\n",
    "#dTime2  = scaler.fit_transform(np.array(datetime_object).reshape(-1, 1))\n",
    "dTime = array(datetime_object)"
   ]
  },
  {
   "cell_type": "code",
   "execution_count": 4,
   "metadata": {},
   "outputs": [],
   "source": [
    "dataframe = dataframe.drop('Date',axis=1)\n",
    "dataframe = dataframe.drop('Index',axis=1)\n",
    "\n",
    "#open  = dataframe[['Open']].round(5)\n",
    "#dataframe = dataframe.drop('Open',axis=1)\n",
    "\n",
    "#open    = open.values\n",
    "dTime2 = dTime\n",
    "dataset = dataframe.values\n",
    "\n",
    "#open    = open.astype('float32')\n",
    "#date = dTime2.astype('float32')\n",
    "dataset = dataset.astype('float32')\n",
    "date = dTime2#open.round(5)\n",
    "sec  = dataset.round(5)\n",
    "# normalize the dataset\n",
    "#dataset = scaler.fit_transform(dataset).round(5)\n",
    "# define input sequence\n",
    "in_seq1 = (date)\n",
    "in_seq2 = (sec)\n",
    "# convert to [rows, columns] structure\n",
    "in_seq1 = in_seq1.reshape((len(in_seq1), 1))\n",
    "in_seq2 = in_seq2.reshape((len(in_seq2), 4))\n",
    "\n",
    "#x_train, x_test, y_train, y_test= train_test_split(in_seq1, in_seq2, test_size=11943 , random_state=0)\n",
    "x_train = in_seq1\n",
    "y_train = in_seq2\n",
    "\n",
    "n_features = x_train.shape[0]"
   ]
  },
  {
   "cell_type": "code",
   "execution_count": 5,
   "metadata": {},
   "outputs": [
    {
     "name": "stdout",
     "output_type": "stream",
     "text": [
      "Model: \"sequential\"\n",
      "_________________________________________________________________\n",
      " Layer (type)                Output Shape              Param #   \n",
      "=================================================================\n",
      " lstm (LSTM)                 (None, 1024)              4202496   \n",
      "                                                                 \n",
      " dense (Dense)               (None, 4)                 4100      \n",
      "                                                                 \n",
      "=================================================================\n",
      "Total params: 4,206,596\n",
      "Trainable params: 4,206,596\n",
      "Non-trainable params: 0\n",
      "_________________________________________________________________\n",
      "None 5718\n"
     ]
    }
   ],
   "source": [
    "# define model\n",
    "model = Sequential()\n",
    "model.add(LSTM(1024, activation='relu',  input_shape=(x_train.shape[0], 1)))\n",
    "#model.add(Dropout(0.2))\n",
    "model.add(Dense(4))\n",
    "model.compile(optimizer='adam', loss='mse')\n",
    "print(model.summary(),x_train.shape[0])\n",
    "#YAKLAŞTI\n",
    "#model = Sequential()\n",
    "#model.add(LSTM(1024, activation='relu',  input_shape=(x_train.shape[0], 1)))\n",
    "#model.add(Dense(3))\n",
    "#model.compile(optimizer='adam', loss='mse')\n",
    "#model.fit(x_train, y_train, epochs=25)"
   ]
  },
  {
   "cell_type": "code",
   "execution_count": 6,
   "metadata": {},
   "outputs": [
    {
     "data": {
      "text/plain": [
       "array([[1.0243 , 1.034  , 1.0213 , 1.0292 ],\n",
       "       [1.0293 , 1.0402 , 1.0284 , 1.0326 ],\n",
       "       [1.0325 , 1.0415 , 1.0272 , 1.033  ],\n",
       "       ...,\n",
       "       [1.13079, 1.13687, 1.12732, 1.13477],\n",
       "       [1.13445, 1.13599, 1.12988, 1.13256],\n",
       "       [1.13244, 1.13861, 1.13033, 1.13755]], dtype=float32)"
      ]
     },
     "execution_count": 6,
     "metadata": {},
     "output_type": "execute_result"
    }
   ],
   "source": [
    "y_train"
   ]
  },
  {
   "cell_type": "code",
   "execution_count": 7,
   "metadata": {},
   "outputs": [
    {
     "name": "stdout",
     "output_type": "stream",
     "text": [
      "Epoch 1/10\n",
      "WARNING:tensorflow:Model was constructed with shape (None, 5718, 1) for input KerasTensor(type_spec=TensorSpec(shape=(None, 5718, 1), dtype=tf.float32, name='lstm_input'), name='lstm_input', description=\"created by layer 'lstm_input'\"), but it was called on an input with incompatible shape (None, 1, 1).\n",
      "WARNING:tensorflow:Model was constructed with shape (None, 5718, 1) for input KerasTensor(type_spec=TensorSpec(shape=(None, 5718, 1), dtype=tf.float32, name='lstm_input'), name='lstm_input', description=\"created by layer 'lstm_input'\"), but it was called on an input with incompatible shape (None, 1, 1).\n",
      "179/179 [==============================] - 4s 20ms/step - loss: 2550310633472.0000\n",
      "Epoch 2/10\n",
      "179/179 [==============================] - 4s 20ms/step - loss: 23992.6133\n",
      "Epoch 3/10\n",
      "179/179 [==============================] - 4s 21ms/step - loss: 0.9999\n",
      "Epoch 4/10\n",
      "179/179 [==============================] - 4s 21ms/step - loss: 1.0792\n",
      "Epoch 5/10\n",
      "179/179 [==============================] - 4s 20ms/step - loss: 1.1921\n",
      "Epoch 6/10\n",
      "179/179 [==============================] - 4s 20ms/step - loss: 1.7286\n",
      "Epoch 7/10\n",
      "179/179 [==============================] - 4s 20ms/step - loss: 1.2081\n",
      "Epoch 8/10\n",
      "179/179 [==============================] - 4s 20ms/step - loss: 1.4248\n",
      "Epoch 9/10\n",
      "179/179 [==============================] - 4s 20ms/step - loss: 176527982592.0000\n",
      "Epoch 10/10\n",
      "179/179 [==============================] - 4s 20ms/step - loss: 139631.5469\n"
     ]
    },
    {
     "data": {
      "text/plain": [
       "<keras.callbacks.History at 0x216d4e5ed30>"
      ]
     },
     "execution_count": 7,
     "metadata": {},
     "output_type": "execute_result"
    }
   ],
   "source": [
    "# fit model\n",
    "model.fit(x_train, y_train, epochs=10)"
   ]
  },
  {
   "cell_type": "code",
   "execution_count": 12,
   "metadata": {},
   "outputs": [
    {
     "ename": "AttributeError",
     "evalue": "'list' object has no attribute 'reshape'",
     "output_type": "error",
     "traceback": [
      "\u001b[1;31m---------------------------------------------------------------------------\u001b[0m",
      "\u001b[1;31mAttributeError\u001b[0m                            Traceback (most recent call last)",
      "\u001b[1;32m~\\AppData\\Local\\Temp/ipykernel_34936/1497365375.py\u001b[0m in \u001b[0;36m<module>\u001b[1;34m\u001b[0m\n\u001b[0;32m     14\u001b[0m \u001b[0mdate_test\u001b[0m  \u001b[1;33m=\u001b[0m \u001b[0mdatetime_objectT\u001b[0m\u001b[1;33m\u001b[0m\u001b[1;33m\u001b[0m\u001b[0m\n\u001b[0;32m     15\u001b[0m \u001b[0mds_test\u001b[0m \u001b[1;33m=\u001b[0m \u001b[0mdf_test\u001b[0m\u001b[1;33m.\u001b[0m\u001b[0mvalues\u001b[0m\u001b[1;33m\u001b[0m\u001b[1;33m\u001b[0m\u001b[0m\n\u001b[1;32m---> 16\u001b[1;33m \u001b[0mdate_test\u001b[0m \u001b[1;33m=\u001b[0m \u001b[0mdate_test\u001b[0m\u001b[1;33m.\u001b[0m\u001b[0mreshape\u001b[0m\u001b[1;33m(\u001b[0m\u001b[1;33m(\u001b[0m\u001b[0mlen\u001b[0m\u001b[1;33m(\u001b[0m\u001b[0mdate_test\u001b[0m\u001b[1;33m)\u001b[0m\u001b[1;33m,\u001b[0m \u001b[1;36m1\u001b[0m\u001b[1;33m)\u001b[0m\u001b[1;33m)\u001b[0m\u001b[1;33m\u001b[0m\u001b[1;33m\u001b[0m\u001b[0m\n\u001b[0m\u001b[0;32m     17\u001b[0m \u001b[1;31m#date_test  = date_test.astype('float32').round(5)\u001b[0m\u001b[1;33m\u001b[0m\u001b[1;33m\u001b[0m\u001b[1;33m\u001b[0m\u001b[0m\n\u001b[0;32m     18\u001b[0m \u001b[1;31m#ds_test = ds_test.astype('float32').round(5)\u001b[0m\u001b[1;33m\u001b[0m\u001b[1;33m\u001b[0m\u001b[1;33m\u001b[0m\u001b[0m\n",
      "\u001b[1;31mAttributeError\u001b[0m: 'list' object has no attribute 'reshape'"
     ]
    }
   ],
   "source": [
    "# demonstrate prediction\n",
    "df_test = read_csv('EURUSD_'+name+'_hazirVeri_test.csv', engine='python')\n",
    "#df_test = df_test.drop('Date',axis=1)\n",
    "df_test = df_test.drop('Index',axis=1)\n",
    "\n",
    "#open_test  = df_test[['Open']]\n",
    "#df_test = df_test.drop('Open',axis=1)\n",
    "dTimeT = df_test['Date']\n",
    "datetime_objectT = [datetime.strptime((dTimeT[i]),'%Y-%m-%d').timestamp() for i in range(len(dTimeT))]#%H:%M:%S\n",
    "scaler  = MinMaxScaler(feature_range=(0, 1))\n",
    "#dTimeT2  = scaler.fit_transform(np.array(datetime_objectT).reshape(-1, 1))\n",
    "\n",
    "#open_test  = df_test.values\n",
    "date_test  = datetime_objectT\n",
    "ds_test = df_test.values\n",
    "date_test = date_test.reshape((len(date_test), 1))\n",
    "#date_test  = date_test.astype('float32').round(5)\n",
    "#ds_test = ds_test.astype('float32').round(5)\n",
    "\n",
    "# normalize the dataset\n",
    "#scaler  = MinMaxScaler(feature_range=(0, 1))\n",
    "#open_test    = scaler.fit_transform(open_test).round(5)\n",
    "#ds_test = scaler.fit_transform(ds_test).round(5)\n",
    "#x_input = array([open_test],[0])\n",
    "#x_input = x_input.reshape((1, 3, 1))\n",
    "yhat = model.predict(date_test, verbose=0).round(5)\n",
    "print((yhat-ds_test))\n",
    "for i in range(len(yhat)):\n",
    "    print(yhat[i],ds_test[i])\n"
   ]
  },
  {
   "cell_type": "code",
   "execution_count": null,
   "metadata": {},
   "outputs": [],
   "source": [
    "f = plt.figure()\n",
    "f.set_figwidth(10)\n",
    "f.set_figheight(10)\n",
    "plt.plot(yhat,color='blue')\n",
    "plt.plot(ds_test,color='red')\n"
   ]
  }
 ],
 "metadata": {
  "interpreter": {
   "hash": "9be36568d6e1ad3ef5e45a047b2a90023b0fdaabc133feaf6b9e90deff153f56"
  },
  "kernelspec": {
   "display_name": "Python 3.9.5 ('base')",
   "language": "python",
   "name": "python3"
  },
  "language_info": {
   "codemirror_mode": {
    "name": "ipython",
    "version": 3
   },
   "file_extension": ".py",
   "mimetype": "text/x-python",
   "name": "python",
   "nbconvert_exporter": "python",
   "pygments_lexer": "ipython3",
   "version": "3.9.5"
  },
  "orig_nbformat": 4
 },
 "nbformat": 4,
 "nbformat_minor": 2
}
